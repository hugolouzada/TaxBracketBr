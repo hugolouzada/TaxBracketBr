{
 "cells": [
  {
   "cell_type": "markdown",
   "metadata": {},
   "source": [
    "# Impacto das mudanças nas faixas do Imposto de Renda Pessoa Física do Brasil: a gentle introduction"
   ]
  },
  {
   "cell_type": "markdown",
   "metadata": {},
   "source": [
    "Ninguém gosta de pagar imposto. Ninguém. Nós gostamos dos benefícios, de viver em uma sociedade funcional, mas não de pagar a conta. E é por isso que em um país com serviços e infraestrutura capengas pagar um imposto alto passa a mesma sensação de pagar 20 reais de covert para um Voz e Violão de Jorge Vercilo num McDonalds. E é por isso que qualquer tentativa de reduzir [ou aumentar] a quantidade de impostos é recebida com muita alegria [ou raiva].\n",
    "\n",
    "Logo, não é surpresa para ninguém que o [Projeto de Lei do Senado n° 517 de 2015](https://www25.senado.leg.br/web/atividade/materias/-/materia/122597) chame tanta atenção. Ele propõe a alteração da tabela de cobrança do imposto de renda para pessoa física da seguinte forma:  \n",
    "\n",
    "![Novo imposto de renda](NewBrackets.jpg)"
   ]
  },
  {
   "cell_type": "markdown",
   "metadata": {},
   "source": [
    "Ou de uma forma um pouco mais estruturada:"
   ]
  },
  {
   "cell_type": "code",
   "execution_count": 67,
   "metadata": {},
   "outputs": [
    {
     "data": {
      "text/html": [
       "<style  type=\"text/css\" >\n",
       "    #T_bb0460c6_6e4e_11e8_b057_c0c2c8a47bcbrow0_col2 {\n",
       "            width:  10em;\n",
       "             height:  80%;\n",
       "        }    #T_bb0460c6_6e4e_11e8_b057_c0c2c8a47bcbrow1_col2 {\n",
       "            width:  10em;\n",
       "             height:  80%;\n",
       "            background:  linear-gradient(90deg,#32cd32 12.5%, transparent 0%);\n",
       "        }    #T_bb0460c6_6e4e_11e8_b057_c0c2c8a47bcbrow2_col2 {\n",
       "            width:  10em;\n",
       "             height:  80%;\n",
       "            background:  linear-gradient(90deg,#32cd32 25.0%, transparent 0%);\n",
       "        }    #T_bb0460c6_6e4e_11e8_b057_c0c2c8a47bcbrow3_col2 {\n",
       "            width:  10em;\n",
       "             height:  80%;\n",
       "            background:  linear-gradient(90deg,#32cd32 37.5%, transparent 0%);\n",
       "        }    #T_bb0460c6_6e4e_11e8_b057_c0c2c8a47bcbrow4_col2 {\n",
       "            width:  10em;\n",
       "             height:  80%;\n",
       "            background:  linear-gradient(90deg,#32cd32 50.0%, transparent 0%);\n",
       "        }    #T_bb0460c6_6e4e_11e8_b057_c0c2c8a47bcbrow5_col2 {\n",
       "            width:  10em;\n",
       "             height:  80%;\n",
       "            background:  linear-gradient(90deg,#32cd32 62.5%, transparent 0%);\n",
       "        }    #T_bb0460c6_6e4e_11e8_b057_c0c2c8a47bcbrow6_col2 {\n",
       "            width:  10em;\n",
       "             height:  80%;\n",
       "            background:  linear-gradient(90deg,#32cd32 75.0%, transparent 0%);\n",
       "        }    #T_bb0460c6_6e4e_11e8_b057_c0c2c8a47bcbrow7_col2 {\n",
       "            width:  10em;\n",
       "             height:  80%;\n",
       "            background:  linear-gradient(90deg,#32cd32 87.5%, transparent 0%);\n",
       "        }    #T_bb0460c6_6e4e_11e8_b057_c0c2c8a47bcbrow8_col2 {\n",
       "            width:  10em;\n",
       "             height:  80%;\n",
       "            background:  linear-gradient(90deg,#32cd32 100.0%, transparent 0%);\n",
       "        }</style>  \n",
       "<table id=\"T_bb0460c6_6e4e_11e8_b057_c0c2c8a47bcb\" > \n",
       "<thead>    <tr> \n",
       "        <th class=\"blank level0\" ></th> \n",
       "        <th class=\"col_heading level0 col0\" >renda_mensal_min</th> \n",
       "        <th class=\"col_heading level0 col1\" >renda_mensal_max</th> \n",
       "        <th class=\"col_heading level0 col2\" >aliquota</th> \n",
       "    </tr></thead> \n",
       "<tbody>    <tr> \n",
       "        <th id=\"T_bb0460c6_6e4e_11e8_b057_c0c2c8a47bcblevel0_row0\" class=\"row_heading level0 row0\" >0</th> \n",
       "        <td id=\"T_bb0460c6_6e4e_11e8_b057_c0c2c8a47bcbrow0_col0\" class=\"data row0 col0\" >0.00</td> \n",
       "        <td id=\"T_bb0460c6_6e4e_11e8_b057_c0c2c8a47bcbrow0_col1\" class=\"data row0 col1\" >3,300.00</td> \n",
       "        <td id=\"T_bb0460c6_6e4e_11e8_b057_c0c2c8a47bcbrow0_col2\" class=\"data row0 col2\" >0%</td> \n",
       "    </tr>    <tr> \n",
       "        <th id=\"T_bb0460c6_6e4e_11e8_b057_c0c2c8a47bcblevel0_row1\" class=\"row_heading level0 row1\" >1</th> \n",
       "        <td id=\"T_bb0460c6_6e4e_11e8_b057_c0c2c8a47bcbrow1_col0\" class=\"data row1 col0\" >3,300.01</td> \n",
       "        <td id=\"T_bb0460c6_6e4e_11e8_b057_c0c2c8a47bcbrow1_col1\" class=\"data row1 col1\" >4,000.00</td> \n",
       "        <td id=\"T_bb0460c6_6e4e_11e8_b057_c0c2c8a47bcbrow1_col2\" class=\"data row1 col2\" >5%</td> \n",
       "    </tr>    <tr> \n",
       "        <th id=\"T_bb0460c6_6e4e_11e8_b057_c0c2c8a47bcblevel0_row2\" class=\"row_heading level0 row2\" >2</th> \n",
       "        <td id=\"T_bb0460c6_6e4e_11e8_b057_c0c2c8a47bcbrow2_col0\" class=\"data row2 col0\" >4,000.01</td> \n",
       "        <td id=\"T_bb0460c6_6e4e_11e8_b057_c0c2c8a47bcbrow2_col1\" class=\"data row2 col1\" >6,500.00</td> \n",
       "        <td id=\"T_bb0460c6_6e4e_11e8_b057_c0c2c8a47bcbrow2_col2\" class=\"data row2 col2\" >10%</td> \n",
       "    </tr>    <tr> \n",
       "        <th id=\"T_bb0460c6_6e4e_11e8_b057_c0c2c8a47bcblevel0_row3\" class=\"row_heading level0 row3\" >3</th> \n",
       "        <td id=\"T_bb0460c6_6e4e_11e8_b057_c0c2c8a47bcbrow3_col0\" class=\"data row3 col0\" >6,500.01</td> \n",
       "        <td id=\"T_bb0460c6_6e4e_11e8_b057_c0c2c8a47bcbrow3_col1\" class=\"data row3 col1\" >9,000.00</td> \n",
       "        <td id=\"T_bb0460c6_6e4e_11e8_b057_c0c2c8a47bcbrow3_col2\" class=\"data row3 col2\" >15%</td> \n",
       "    </tr>    <tr> \n",
       "        <th id=\"T_bb0460c6_6e4e_11e8_b057_c0c2c8a47bcblevel0_row4\" class=\"row_heading level0 row4\" >4</th> \n",
       "        <td id=\"T_bb0460c6_6e4e_11e8_b057_c0c2c8a47bcbrow4_col0\" class=\"data row4 col0\" >9,000.01</td> \n",
       "        <td id=\"T_bb0460c6_6e4e_11e8_b057_c0c2c8a47bcbrow4_col1\" class=\"data row4 col1\" >13,000.00</td> \n",
       "        <td id=\"T_bb0460c6_6e4e_11e8_b057_c0c2c8a47bcbrow4_col2\" class=\"data row4 col2\" >20%</td> \n",
       "    </tr>    <tr> \n",
       "        <th id=\"T_bb0460c6_6e4e_11e8_b057_c0c2c8a47bcblevel0_row5\" class=\"row_heading level0 row5\" >5</th> \n",
       "        <td id=\"T_bb0460c6_6e4e_11e8_b057_c0c2c8a47bcbrow5_col0\" class=\"data row5 col0\" >13,000.01</td> \n",
       "        <td id=\"T_bb0460c6_6e4e_11e8_b057_c0c2c8a47bcbrow5_col1\" class=\"data row5 col1\" >18,000.00</td> \n",
       "        <td id=\"T_bb0460c6_6e4e_11e8_b057_c0c2c8a47bcbrow5_col2\" class=\"data row5 col2\" >25%</td> \n",
       "    </tr>    <tr> \n",
       "        <th id=\"T_bb0460c6_6e4e_11e8_b057_c0c2c8a47bcblevel0_row6\" class=\"row_heading level0 row6\" >6</th> \n",
       "        <td id=\"T_bb0460c6_6e4e_11e8_b057_c0c2c8a47bcbrow6_col0\" class=\"data row6 col0\" >18,000.01</td> \n",
       "        <td id=\"T_bb0460c6_6e4e_11e8_b057_c0c2c8a47bcbrow6_col1\" class=\"data row6 col1\" >25,000.00</td> \n",
       "        <td id=\"T_bb0460c6_6e4e_11e8_b057_c0c2c8a47bcbrow6_col2\" class=\"data row6 col2\" >30%</td> \n",
       "    </tr>    <tr> \n",
       "        <th id=\"T_bb0460c6_6e4e_11e8_b057_c0c2c8a47bcblevel0_row7\" class=\"row_heading level0 row7\" >7</th> \n",
       "        <td id=\"T_bb0460c6_6e4e_11e8_b057_c0c2c8a47bcbrow7_col0\" class=\"data row7 col0\" >25,000.01</td> \n",
       "        <td id=\"T_bb0460c6_6e4e_11e8_b057_c0c2c8a47bcbrow7_col1\" class=\"data row7 col1\" >49,500.00</td> \n",
       "        <td id=\"T_bb0460c6_6e4e_11e8_b057_c0c2c8a47bcbrow7_col2\" class=\"data row7 col2\" >35%</td> \n",
       "    </tr>    <tr> \n",
       "        <th id=\"T_bb0460c6_6e4e_11e8_b057_c0c2c8a47bcblevel0_row8\" class=\"row_heading level0 row8\" >8</th> \n",
       "        <td id=\"T_bb0460c6_6e4e_11e8_b057_c0c2c8a47bcbrow8_col0\" class=\"data row8 col0\" >49,500.01</td> \n",
       "        <td id=\"T_bb0460c6_6e4e_11e8_b057_c0c2c8a47bcbrow8_col1\" class=\"data row8 col1\" >nan</td> \n",
       "        <td id=\"T_bb0460c6_6e4e_11e8_b057_c0c2c8a47bcbrow8_col2\" class=\"data row8 col2\" >40%</td> \n",
       "    </tr></tbody> \n",
       "</table> "
      ],
      "text/plain": [
       "<pandas.io.formats.style.Styler at 0x2795ddc0c88>"
      ]
     },
     "execution_count": 67,
     "metadata": {},
     "output_type": "execute_result"
    }
   ],
   "source": [
    "import pandas as pd\n",
    "\n",
    "pl2015_taxbrackets = pd.read_csv(\"PL2015_TaxBrackets.csv\",index_col=False)\n",
    "\n",
    "pl2015_taxbrackets.style.format({'renda_mensal_min': '{:0,.2f}', 'renda_mensal_max': '{:0,.2f}', 'aliquota': '{:.0%}'})\\\n",
    "                  .bar(subset=['aliquota'], color='#32cd32')"
   ]
  },
  {
   "cell_type": "markdown",
   "metadata": {},
   "source": [
    "Tab. 1: Imposto de renda do PL de 2015. É legal como não precisamos nos preocupar com álgebra de ponto flutuante ou intervalos abertos e fechados quando lidamos com valores monetários."
   ]
  },
  {
   "cell_type": "markdown",
   "metadata": {},
   "source": [
    "Como [98% do Brasil ganha até nove mil reais por mês](https://www.nexojornal.com.br/interativo/2016/01/11/O-seu-sal%C3%A1rio-diante-da-realidade-brasileira), o projeto viralizou. Para o jovem, a felicidade do primeiro salário só é reduzida pelo seu enquadramento na [tabela atual do imposto de renda](http://idg.receita.fazenda.gov.br/acesso-rapido/tributos/irpf-imposto-de-renda-pessoa-fisica#dedu--o-mensal-por-dependente%20conorf):"
   ]
  },
  {
   "cell_type": "code",
   "execution_count": 68,
   "metadata": {},
   "outputs": [
    {
     "data": {
      "text/html": [
       "<style  type=\"text/css\" >\n",
       "    #T_bb0a517a_6e4e_11e8_a7df_c0c2c8a47bcbrow0_col2 {\n",
       "            width:  10em;\n",
       "             height:  80%;\n",
       "        }    #T_bb0a517a_6e4e_11e8_a7df_c0c2c8a47bcbrow1_col2 {\n",
       "            width:  10em;\n",
       "             height:  80%;\n",
       "            background:  linear-gradient(90deg,#32cd32 27.3%, transparent 0%);\n",
       "        }    #T_bb0a517a_6e4e_11e8_a7df_c0c2c8a47bcbrow2_col2 {\n",
       "            width:  10em;\n",
       "             height:  80%;\n",
       "            background:  linear-gradient(90deg,#32cd32 54.5%, transparent 0%);\n",
       "        }    #T_bb0a517a_6e4e_11e8_a7df_c0c2c8a47bcbrow3_col2 {\n",
       "            width:  10em;\n",
       "             height:  80%;\n",
       "            background:  linear-gradient(90deg,#32cd32 81.8%, transparent 0%);\n",
       "        }    #T_bb0a517a_6e4e_11e8_a7df_c0c2c8a47bcbrow4_col2 {\n",
       "            width:  10em;\n",
       "             height:  80%;\n",
       "            background:  linear-gradient(90deg,#32cd32 100.0%, transparent 0%);\n",
       "        }</style>  \n",
       "<table id=\"T_bb0a517a_6e4e_11e8_a7df_c0c2c8a47bcb\" > \n",
       "<thead>    <tr> \n",
       "        <th class=\"blank level0\" ></th> \n",
       "        <th class=\"col_heading level0 col0\" >renda_mensal_min</th> \n",
       "        <th class=\"col_heading level0 col1\" >renda_mensal_max</th> \n",
       "        <th class=\"col_heading level0 col2\" >aliquota</th> \n",
       "    </tr></thead> \n",
       "<tbody>    <tr> \n",
       "        <th id=\"T_bb0a517a_6e4e_11e8_a7df_c0c2c8a47bcblevel0_row0\" class=\"row_heading level0 row0\" >0</th> \n",
       "        <td id=\"T_bb0a517a_6e4e_11e8_a7df_c0c2c8a47bcbrow0_col0\" class=\"data row0 col0\" >0.00</td> \n",
       "        <td id=\"T_bb0a517a_6e4e_11e8_a7df_c0c2c8a47bcbrow0_col1\" class=\"data row0 col1\" >1,903.98</td> \n",
       "        <td id=\"T_bb0a517a_6e4e_11e8_a7df_c0c2c8a47bcbrow0_col2\" class=\"data row0 col2\" >0.0%</td> \n",
       "    </tr>    <tr> \n",
       "        <th id=\"T_bb0a517a_6e4e_11e8_a7df_c0c2c8a47bcblevel0_row1\" class=\"row_heading level0 row1\" >1</th> \n",
       "        <td id=\"T_bb0a517a_6e4e_11e8_a7df_c0c2c8a47bcbrow1_col0\" class=\"data row1 col0\" >1,903.99</td> \n",
       "        <td id=\"T_bb0a517a_6e4e_11e8_a7df_c0c2c8a47bcbrow1_col1\" class=\"data row1 col1\" >2,826.65</td> \n",
       "        <td id=\"T_bb0a517a_6e4e_11e8_a7df_c0c2c8a47bcbrow1_col2\" class=\"data row1 col2\" >7.5%</td> \n",
       "    </tr>    <tr> \n",
       "        <th id=\"T_bb0a517a_6e4e_11e8_a7df_c0c2c8a47bcblevel0_row2\" class=\"row_heading level0 row2\" >2</th> \n",
       "        <td id=\"T_bb0a517a_6e4e_11e8_a7df_c0c2c8a47bcbrow2_col0\" class=\"data row2 col0\" >2,826.66</td> \n",
       "        <td id=\"T_bb0a517a_6e4e_11e8_a7df_c0c2c8a47bcbrow2_col1\" class=\"data row2 col1\" >3,751.05</td> \n",
       "        <td id=\"T_bb0a517a_6e4e_11e8_a7df_c0c2c8a47bcbrow2_col2\" class=\"data row2 col2\" >15.0%</td> \n",
       "    </tr>    <tr> \n",
       "        <th id=\"T_bb0a517a_6e4e_11e8_a7df_c0c2c8a47bcblevel0_row3\" class=\"row_heading level0 row3\" >3</th> \n",
       "        <td id=\"T_bb0a517a_6e4e_11e8_a7df_c0c2c8a47bcbrow3_col0\" class=\"data row3 col0\" >3,751.06</td> \n",
       "        <td id=\"T_bb0a517a_6e4e_11e8_a7df_c0c2c8a47bcbrow3_col1\" class=\"data row3 col1\" >4,664.68</td> \n",
       "        <td id=\"T_bb0a517a_6e4e_11e8_a7df_c0c2c8a47bcbrow3_col2\" class=\"data row3 col2\" >22.5%</td> \n",
       "    </tr>    <tr> \n",
       "        <th id=\"T_bb0a517a_6e4e_11e8_a7df_c0c2c8a47bcblevel0_row4\" class=\"row_heading level0 row4\" >4</th> \n",
       "        <td id=\"T_bb0a517a_6e4e_11e8_a7df_c0c2c8a47bcbrow4_col0\" class=\"data row4 col0\" >4,664.69</td> \n",
       "        <td id=\"T_bb0a517a_6e4e_11e8_a7df_c0c2c8a47bcbrow4_col1\" class=\"data row4 col1\" >nan</td> \n",
       "        <td id=\"T_bb0a517a_6e4e_11e8_a7df_c0c2c8a47bcbrow4_col2\" class=\"data row4 col2\" >27.5%</td> \n",
       "    </tr></tbody> \n",
       "</table> "
      ],
      "text/plain": [
       "<pandas.io.formats.style.Styler at 0x27906adaf60>"
      ]
     },
     "execution_count": 68,
     "metadata": {},
     "output_type": "execute_result"
    }
   ],
   "source": [
    "current_taxbrackets = pd.read_csv(\"Current_TaxBrackets.csv\",index_col=False)\n",
    "\n",
    "current_taxbrackets.style.format({'renda_mensal_min': '{:0,.2f}', 'renda_mensal_max': '{:0,.2f}', 'aliquota': '{:.1%}'})\\\n",
    "                  .bar(subset=['aliquota'], color='#32cd32')"
   ]
  },
  {
   "cell_type": "markdown",
   "metadata": {},
   "source": [
    "Tab.2 : Imposto de Renda atual. Gente, custava arredondar esses números aí?"
   ]
  },
  {
   "cell_type": "markdown",
   "metadata": {},
   "source": [
    "O que não viralizou, por motivos óbvios, é o impacto dessa proposta de tabela na arrecadação da união. Mesmo que você defenda estado mínimo, estado máximo ou qualquer combinação linear dos dois extremos, mudanças bruscas não são legais. Existem três grandes conjuntos de leis ([Lei de Diretrizes Orçamentárias](https://pt.wikipedia.org/wiki/Lei_de_diretrizes_or%C3%A7ament%C3%A1rias), [Lei Orçamentária Anual](https://pt.wikipedia.org/wiki/Lei_or%C3%A7ament%C3%A1ria_anual) e a [Lei de Responsabilidade Fiscal](https://pt.wikipedia.org/wiki/Lei_de_Responsabilidade_Fiscal)) que podem ser resumidas na seguinte frase:\n",
    "\n",
    "\"O dinheiro tem que dar para pagar as contas.\"\n",
    "-- Mãe do autor, 2005."
   ]
  },
  {
   "cell_type": "markdown",
   "metadata": {},
   "source": [
    "O PL da nova tabela não vem com uma análise sobre esse impacto, somente com a frase: \"A redução do tributo devido promovida para as classes mais baixas será compensada com o aumento para as superiores\", o que desperta em mim um grande sentimento de \"citation needed\". \n",
    "\n",
    "A Comissâo de Assuntos Econômicos (CAE) percebeu isso também quando se [manifestou](https://legis.senado.leg.br/sdleg-getter/documento?dm=7304671&disposition=inline) sobre o PL e solicitou um relatorio para a Consultoria de Orçamentos, Fiscalização e Controle do Senado Federal (CONORF), que possui esse nome fantástico mas uma sigla nem tanto. O parecer final da CAE contém a estimativa final da CONORF de R$ 250.92 bilhões de arrecadação para o ano de 2018 com a nova tabela. \n",
    "\n",
    "Não li o relatório da CONORF porque ele não foi disponibilizado no site deles (ou eu não sei usar aquele layout bizantino) nem anexado à tramitação do PL. Existem considerações muito fortes ness tipo de análise de impacto, logo não consigo acreditar nesses 250 bi assim, de mão beijada. Na verdade, não consigo nem comparar esse número com o atual já que nas [projeções oficiais](http://www.planejamento.gov.br/assuntos/orcamento-1/orcamentos-anuais/2018/ploa-2018/volume-i.pdf) a arrecadação com Pessoa Física será de 31.8 bi, e não parece ser esse número que a CONORF calculou. Olhando a projeção para a arrecadação completa também não ajuda, já que o total fica em 342 bi, já contando com o Imposto de Renda das empresas (outro buraco que não trataremos aqui).\n",
    "\n",
    "Vou tentar então reproduzir a análise e chegar em algo que possamos comparar. As seções abaixo são tentativas cada vez mais complicadas, e realistas, de tentar fazer o cálculo da arrecadação com a tabela atual e com a nova, proposta pelo PL. Vale a pena ler sequencialmente para você entender de onde saem as premissas, mas, por construção, a seção mais interessante será sempre a última."
   ]
  },
  {
   "cell_type": "markdown",
   "metadata": {},
   "source": [
    "# Conteúdo\n",
    "\n",
    "* [2. Impacto na arrecadação, primeira tentativa](#secao-2)\n",
    "* [3. Impacto na arrecadação, primeira agora com PNAD](#secao-3)\n",
    "* [4. Impacto sob influência do hit Xibom bombom](#secao-4)\n",
    "* [Conclusão](#conclusao)\n"
   ]
  },
  {
   "cell_type": "markdown",
   "metadata": {},
   "source": [
    "## 2. Impacto na arrecadação, primeira tentativa <a class=\"anchor\" id=\"secao-2\"></a>"
   ]
  },
  {
   "cell_type": "markdown",
   "metadata": {},
   "source": [
    "Vou primeiro calcular quantas pessoas existem em cada uma das faixas. A População Economicamente Ativa do Brasil está estimada em [63%](https://brasilescola.uol.com.br/geografia/populacao-economicamente-ativa-pea.htm) da [população total](https://www.google.com.br/search?q=populacao+do+brasil+em+2015&oq=populacao+do+brasil+em+2015). "
   ]
  },
  {
   "cell_type": "code",
   "execution_count": 69,
   "metadata": {},
   "outputs": [
    {
     "data": {
      "text/plain": [
       "129882999.99999999"
      ]
     },
     "execution_count": 69,
     "metadata": {},
     "output_type": "execute_result"
    }
   ],
   "source": [
    "PEA = 206000000*0.6305\n",
    "PEA"
   ]
  },
  {
   "cell_type": "markdown",
   "metadata": {},
   "source": [
    "Para estimar o valor arrecadado em um determinado ano pela tabela atual sem a lista de pessoas e seus salários preciso assumir uma distribuição de pessoas entre as faixas. Por hora, vamos considerar, muito errôneamente, que essa distriuição é uniforme. "
   ]
  },
  {
   "cell_type": "code",
   "execution_count": 70,
   "metadata": {},
   "outputs": [],
   "source": [
    "current_bracket_total_revenue = current_taxbrackets.copy()\n",
    "current_bracket_total_revenue['pagantes'] = PEA/5.0"
   ]
  },
  {
   "cell_type": "markdown",
   "metadata": {},
   "source": [
    "Se a distribuição de pessoas é uniforme basta então encontrarmos o ponto médio de cada faixa para calcularmos o valor arrecadado. A última faixa no entanto é um problema. Ela não tem um valor superior. Aqui, vou considerar esse valor como sendo o do [salário do cargo de presidente da república](http://www2.camara.leg.br/camaranoticias/noticias/POLITICA/504248-CAMARA-APROVA-REDUCAO-DE-SALARIO-DE-PRESIDENTE-DA-REPUBLICA-E-MINISTROS.html) em 2015, só pela piada."
   ]
  },
  {
   "cell_type": "code",
   "execution_count": 71,
   "metadata": {},
   "outputs": [
    {
     "name": "stdout",
     "output_type": "stream",
     "text": [
      "Valor total arrecadado: 2,255,041,122,203.80\n"
     ]
    }
   ],
   "source": [
    "current_bracket_total_revenue['renda_mensal_max'][4] =  30934.70 \n",
    "\n",
    "current_bracket_total_revenue['renda_mensal_media'] = (current_bracket_total_revenue['renda_mensal_min'] + \n",
    "                                                       current_bracket_total_revenue['renda_mensal_max'])/2.0\n",
    "def total_revenue(bracket_df):\n",
    "    temp_df = bracket_df.copy()\n",
    "    temp_df['valor_declarado_faixa'] = temp_df['pagantes']*temp_df['renda_mensal_media']\n",
    "    temp_df['valor_pago_faixa'] = 13.33*temp_df['valor_declarado_faixa']*temp_df['aliquota']\n",
    "    \n",
    "    return sum(temp_df['valor_pago_faixa'])\n",
    "\n",
    "print(\"Valor total arrecadado: {:0,.2f}\".format(total_revenue(current_bracket_total_revenue)))"
   ]
  },
  {
   "cell_type": "markdown",
   "metadata": {},
   "source": [
    "Um valor muuito maior do que o normal arrecadado pela receita. Mas vamos parar de nos preocupar com a realidade por um instante e repetir o mesmo raciocínio para a nova tabela. Aqui, a última faixa tem como limite superior o salário de três presidentes:"
   ]
  },
  {
   "cell_type": "code",
   "execution_count": 72,
   "metadata": {},
   "outputs": [
    {
     "name": "stdout",
     "output_type": "stream",
     "text": [
      "Valor total arrecadado: 10,752,264,225,473.14\n"
     ]
    }
   ],
   "source": [
    "pl2015_taxbrackets_total_revenue = pl2015_taxbrackets\n",
    "pl2015_taxbrackets_total_revenue['pagantes'] = PEA/9.0\n",
    "\n",
    "pl2015_taxbrackets_total_revenue.iloc[8,1] =  30934.70*3  # três presidentes!\n",
    "\n",
    "pl2015_taxbrackets_total_revenue['renda_mensal_media'] = (pl2015_taxbrackets_total_revenue['renda_mensal_min'] + \n",
    "                                                         pl2015_taxbrackets_total_revenue['renda_mensal_max'])/2.0\n",
    "\n",
    "print(\"Valor total arrecadado: {:0,.2f}\".format(total_revenue(pl2015_taxbrackets_total_revenue)))"
   ]
  },
  {
   "cell_type": "markdown",
   "metadata": {},
   "source": [
    "Nessa estimativa bem simplista a nova tabela resulta em uma arrecadação quase 5x maior. Mas nossa premissa de distribuição uniforme da população por faixa de renda não é nenhum pouco razoável. Nâo existem tantos ricos assim. \n",
    "\n",
    "Vamos complicar um pouco as coisas e assumir que, começando da faixa mais rica, cada faixa for 12 vezes maior do que a faixa anterior:"
   ]
  },
  {
   "cell_type": "code",
   "execution_count": 73,
   "metadata": {},
   "outputs": [
    {
     "name": "stdout",
     "output_type": "stream",
     "text": [
      "Pagantes : 129,883,000.00\n",
      "Tabela atual arrecadado:  37,567,865,782.49\n"
     ]
    },
    {
     "data": {
      "text/html": [
       "<div>\n",
       "<style scoped>\n",
       "    .dataframe tbody tr th:only-of-type {\n",
       "        vertical-align: middle;\n",
       "    }\n",
       "\n",
       "    .dataframe tbody tr th {\n",
       "        vertical-align: top;\n",
       "    }\n",
       "\n",
       "    .dataframe thead th {\n",
       "        text-align: right;\n",
       "    }\n",
       "</style>\n",
       "<table border=\"1\" class=\"dataframe\">\n",
       "  <thead>\n",
       "    <tr style=\"text-align: right;\">\n",
       "      <th></th>\n",
       "      <th>renda_mensal_media</th>\n",
       "      <th>pagantes</th>\n",
       "    </tr>\n",
       "  </thead>\n",
       "  <tbody>\n",
       "    <tr>\n",
       "      <th>0</th>\n",
       "      <td>951.990</td>\n",
       "      <td>1.168959e+08</td>\n",
       "    </tr>\n",
       "    <tr>\n",
       "      <th>1</th>\n",
       "      <td>2365.320</td>\n",
       "      <td>1.168959e+07</td>\n",
       "    </tr>\n",
       "    <tr>\n",
       "      <th>2</th>\n",
       "      <td>3288.855</td>\n",
       "      <td>1.168959e+06</td>\n",
       "    </tr>\n",
       "    <tr>\n",
       "      <th>3</th>\n",
       "      <td>4207.870</td>\n",
       "      <td>1.168959e+05</td>\n",
       "    </tr>\n",
       "    <tr>\n",
       "      <th>4</th>\n",
       "      <td>17799.695</td>\n",
       "      <td>1.168959e+04</td>\n",
       "    </tr>\n",
       "  </tbody>\n",
       "</table>\n",
       "</div>"
      ],
      "text/plain": [
       "   renda_mensal_media      pagantes\n",
       "0             951.990  1.168959e+08\n",
       "1            2365.320  1.168959e+07\n",
       "2            3288.855  1.168959e+06\n",
       "3            4207.870  1.168959e+05\n",
       "4           17799.695  1.168959e+04"
      ]
     },
     "execution_count": 73,
     "metadata": {},
     "output_type": "execute_result"
    }
   ],
   "source": [
    "population_richest_bracket = PEA/(sum([10**i for i in range(0,5)]))\n",
    "current_bracket_total_revenue['pagantes'] = [population_richest_bracket*(10**i) for i in range(0,5)][::-1]\n",
    "\n",
    "print(\"Pagantes : {:0,.2f}\".format(sum(current_bracket_total_revenue['pagantes'])))\n",
    "print(\"Tabela atual arrecadado:  {:0,.2f}\".format(total_revenue(current_bracket_total_revenue)))\n",
    "\n",
    "current_bracket_total_revenue[['renda_mensal_media','pagantes']]"
   ]
  },
  {
   "cell_type": "markdown",
   "metadata": {},
   "source": [
    "Ambos valor total arrecadado e distribuição de pagantes nas faixas não parecem muito feios para mim. Vou então redistribuir essas pessoas na tabela nova. Para isso, vou assumir que, dentro das faixas, a população se mantém de forma uniforme. \n",
    "\n",
    "Como as novas faixas não coincidem com as atuais, temos que fazer um pouco de ginástica para conseguir a quantidade de pagantes na nova tabela: "
   ]
  },
  {
   "cell_type": "code",
   "execution_count": 74,
   "metadata": {},
   "outputs": [
    {
     "name": "stdout",
     "output_type": "stream",
     "text": [
      "Pagantes : 129,883,000.00\n",
      "Tabela nova arrecadado:  72,019,990,560.05\n"
     ]
    },
    {
     "data": {
      "text/html": [
       "<div>\n",
       "<style scoped>\n",
       "    .dataframe tbody tr th:only-of-type {\n",
       "        vertical-align: middle;\n",
       "    }\n",
       "\n",
       "    .dataframe tbody tr th {\n",
       "        vertical-align: top;\n",
       "    }\n",
       "\n",
       "    .dataframe thead th {\n",
       "        text-align: right;\n",
       "    }\n",
       "</style>\n",
       "<table border=\"1\" class=\"dataframe\">\n",
       "  <thead>\n",
       "    <tr style=\"text-align: right;\">\n",
       "      <th></th>\n",
       "      <th>renda_mensal_min</th>\n",
       "      <th>renda_mensal_max</th>\n",
       "      <th>aliquota</th>\n",
       "      <th>pagantes</th>\n",
       "      <th>renda_mensal_media</th>\n",
       "    </tr>\n",
       "  </thead>\n",
       "  <tbody>\n",
       "    <tr>\n",
       "      <th>0</th>\n",
       "      <td>0.00</td>\n",
       "      <td>3300.0</td>\n",
       "      <td>0.00</td>\n",
       "      <td>1.013026e+08</td>\n",
       "      <td>1650.000</td>\n",
       "    </tr>\n",
       "    <tr>\n",
       "      <th>1</th>\n",
       "      <td>3300.01</td>\n",
       "      <td>4000.0</td>\n",
       "      <td>0.05</td>\n",
       "      <td>2.832400e+07</td>\n",
       "      <td>3650.005</td>\n",
       "    </tr>\n",
       "    <tr>\n",
       "      <th>2</th>\n",
       "      <td>4000.01</td>\n",
       "      <td>6500.0</td>\n",
       "      <td>0.10</td>\n",
       "      <td>2.449351e+05</td>\n",
       "      <td>5250.005</td>\n",
       "    </tr>\n",
       "    <tr>\n",
       "      <th>3</th>\n",
       "      <td>6500.01</td>\n",
       "      <td>9000.0</td>\n",
       "      <td>0.15</td>\n",
       "      <td>1.904856e+03</td>\n",
       "      <td>7750.005</td>\n",
       "    </tr>\n",
       "    <tr>\n",
       "      <th>4</th>\n",
       "      <td>9000.01</td>\n",
       "      <td>13000.0</td>\n",
       "      <td>0.20</td>\n",
       "      <td>1.904856e+03</td>\n",
       "      <td>11000.005</td>\n",
       "    </tr>\n",
       "    <tr>\n",
       "      <th>5</th>\n",
       "      <td>13000.01</td>\n",
       "      <td>18000.0</td>\n",
       "      <td>0.25</td>\n",
       "      <td>1.904856e+03</td>\n",
       "      <td>15500.005</td>\n",
       "    </tr>\n",
       "    <tr>\n",
       "      <th>6</th>\n",
       "      <td>18000.01</td>\n",
       "      <td>25000.0</td>\n",
       "      <td>0.30</td>\n",
       "      <td>1.904856e+03</td>\n",
       "      <td>21500.005</td>\n",
       "    </tr>\n",
       "    <tr>\n",
       "      <th>7</th>\n",
       "      <td>25000.01</td>\n",
       "      <td>49500.0</td>\n",
       "      <td>0.35</td>\n",
       "      <td>1.904856e+03</td>\n",
       "      <td>37250.005</td>\n",
       "    </tr>\n",
       "    <tr>\n",
       "      <th>8</th>\n",
       "      <td>49500.01</td>\n",
       "      <td>92804.1</td>\n",
       "      <td>0.40</td>\n",
       "      <td>1.904856e+03</td>\n",
       "      <td>71152.055</td>\n",
       "    </tr>\n",
       "  </tbody>\n",
       "</table>\n",
       "</div>"
      ],
      "text/plain": [
       "   renda_mensal_min  renda_mensal_max  aliquota      pagantes  \\\n",
       "0              0.00            3300.0      0.00  1.013026e+08   \n",
       "1           3300.01            4000.0      0.05  2.832400e+07   \n",
       "2           4000.01            6500.0      0.10  2.449351e+05   \n",
       "3           6500.01            9000.0      0.15  1.904856e+03   \n",
       "4           9000.01           13000.0      0.20  1.904856e+03   \n",
       "5          13000.01           18000.0      0.25  1.904856e+03   \n",
       "6          18000.01           25000.0      0.30  1.904856e+03   \n",
       "7          25000.01           49500.0      0.35  1.904856e+03   \n",
       "8          49500.01           92804.1      0.40  1.904856e+03   \n",
       "\n",
       "   renda_mensal_media  \n",
       "0            1650.000  \n",
       "1            3650.005  \n",
       "2            5250.005  \n",
       "3            7750.005  \n",
       "4           11000.005  \n",
       "5           15500.005  \n",
       "6           21500.005  \n",
       "7           37250.005  \n",
       "8           71152.055  "
      ]
     },
     "execution_count": 74,
     "metadata": {},
     "output_type": "execute_result"
    }
   ],
   "source": [
    "pagantes_nova_tabela = {}\n",
    "\n",
    "pagantes_nova_tabela[0] =  (pl2015_taxbrackets_total_revenue['renda_mensal_media'][0]/current_bracket_total_revenue['renda_mensal_max'][0])\\\n",
    "                           *current_bracket_total_revenue['pagantes'][0]\n",
    "    \n",
    "pagantes_nova_tabela[1] =  current_bracket_total_revenue['pagantes'][0] - pagantes_nova_tabela[0] +\\\n",
    "                           current_bracket_total_revenue['pagantes'][1] +\\\n",
    "                           (pl2015_taxbrackets_total_revenue['renda_mensal_media'][1]-current_bracket_total_revenue['renda_mensal_min'][2])\\\n",
    "                           /(current_bracket_total_revenue['renda_mensal_max'][2]-current_bracket_total_revenue['renda_mensal_min'][2])\\\n",
    "                           *current_bracket_total_revenue['pagantes'][2]\n",
    "\n",
    "pagantes_nova_tabela[2] =  (1-(pl2015_taxbrackets_total_revenue['renda_mensal_media'][1]-current_bracket_total_revenue['renda_mensal_min'][2])\\\n",
    "                           /(current_bracket_total_revenue['renda_mensal_max'][2]-current_bracket_total_revenue['renda_mensal_min'][2])\\\n",
    "                           )*current_bracket_total_revenue['pagantes'][2]+\\\n",
    "                           current_bracket_total_revenue['pagantes'][3] +\\\n",
    "                           (pl2015_taxbrackets_total_revenue['renda_mensal_media'][2]-current_bracket_total_revenue['renda_mensal_min'][4])\\\n",
    "                           /(current_bracket_total_revenue['renda_mensal_max'][4]-current_bracket_total_revenue['renda_mensal_min'][4])\\\n",
    "                           *current_bracket_total_revenue['pagantes'][4]\n",
    "\n",
    "for i in range(3,9):\n",
    "    pagantes_nova_tabela[i] = ((1-(pl2015_taxbrackets_total_revenue['renda_mensal_media'][2]-current_bracket_total_revenue['renda_mensal_min'][4])\\\n",
    "        /(current_bracket_total_revenue['renda_mensal_max'][4]-current_bracket_total_revenue['renda_mensal_min'][4])\\\n",
    "        )/6)*current_bracket_total_revenue['pagantes'][4]\n",
    "\n",
    "pl2015_taxbrackets_total_revenue['pagantes'] = [pagantes_nova_tabela[i] for i in range(0,9)]\n",
    "\n",
    "print(\"Pagantes : {:0,.2f}\".format(sum(pl2015_taxbrackets_total_revenue['pagantes'])))\n",
    "print(\"Tabela nova arrecadado:  {:0,.2f}\".format(total_revenue(pl2015_taxbrackets_total_revenue)))\n",
    "pl2015_taxbrackets_total_revenue"
   ]
  },
  {
   "cell_type": "markdown",
   "metadata": {},
   "source": [
    "Logo, a tabela do PL resulta em uma arrecadação quase o dobro da atual. Mas não vamos sejamos precipitados, assumir uma distribuição uniforme de pessoas dentro das faixas é uma premissa muito forte. Vamos então investigar isso com pouco mais de detalhes."
   ]
  },
  {
   "cell_type": "markdown",
   "metadata": {},
   "source": [
    "## 3. Impacto na arrecadação, agora com PNAD <a class=\"anchor\" id=\"secao-3\"></a>"
   ]
  },
  {
   "cell_type": "markdown",
   "metadata": {},
   "source": [
    "A Pesquisa Nacional por Amostra de Domicílios (PNAD) mede umas coisas muito legais. Você consegue achar números de como as pessoas se dividem em termos de localidade, escolaridade, uso de tecnologias e, mais importante que isso, rendimento. Os últimos dados que o IBGE publicou são de [2015](https://ww2.ibge.gov.br/home/estatistica/populacao/trabalhoerendimento/pnad2015/sintese_defaultxls.shtm), mas tudo bem, o PL é de 2015 também. Vamos trabalhar com esse ano daqui pra frente. Você consegue baixar o arquivo zip com todos as planilhas da pesquisa, mas a única que interessa pra gente é a PNAD_2015_07rendimento_xls.zip\\07rendimento\\02ocupadas\\tab7_2_1.xls:"
   ]
  },
  {
   "cell_type": "code",
   "execution_count": 75,
   "metadata": {},
   "outputs": [
    {
     "name": "stdout",
     "output_type": "stream",
     "text": [
      "Pagantes : 93,309,987.00\n"
     ]
    },
    {
     "data": {
      "text/html": [
       "<style  type=\"text/css\" >\n",
       "    #T_bb24f8ba_6e4e_11e8_9e8c_c0c2c8a47bcbrow0_col2 {\n",
       "            width:  10em;\n",
       "             height:  80%;\n",
       "            background:  linear-gradient(90deg,#32cd32 15.4%, transparent 0%);\n",
       "        }    #T_bb24f8ba_6e4e_11e8_9e8c_c0c2c8a47bcbrow1_col2 {\n",
       "            width:  10em;\n",
       "             height:  80%;\n",
       "            background:  linear-gradient(90deg,#32cd32 68.8%, transparent 0%);\n",
       "        }    #T_bb24f8ba_6e4e_11e8_9e8c_c0c2c8a47bcbrow2_col2 {\n",
       "            width:  10em;\n",
       "             height:  80%;\n",
       "            background:  linear-gradient(90deg,#32cd32 100.0%, transparent 0%);\n",
       "        }    #T_bb24f8ba_6e4e_11e8_9e8c_c0c2c8a47bcbrow3_col2 {\n",
       "            width:  10em;\n",
       "             height:  80%;\n",
       "            background:  linear-gradient(90deg,#32cd32 33.1%, transparent 0%);\n",
       "        }    #T_bb24f8ba_6e4e_11e8_9e8c_c0c2c8a47bcbrow4_col2 {\n",
       "            width:  10em;\n",
       "             height:  80%;\n",
       "            background:  linear-gradient(90deg,#32cd32 22.6%, transparent 0%);\n",
       "        }    #T_bb24f8ba_6e4e_11e8_9e8c_c0c2c8a47bcbrow5_col2 {\n",
       "            width:  10em;\n",
       "             height:  80%;\n",
       "            background:  linear-gradient(90deg,#32cd32 14.4%, transparent 0%);\n",
       "        }    #T_bb24f8ba_6e4e_11e8_9e8c_c0c2c8a47bcbrow6_col2 {\n",
       "            width:  10em;\n",
       "             height:  80%;\n",
       "            background:  linear-gradient(90deg,#32cd32 4.0%, transparent 0%);\n",
       "        }    #T_bb24f8ba_6e4e_11e8_9e8c_c0c2c8a47bcbrow7_col2 {\n",
       "            width:  10em;\n",
       "             height:  80%;\n",
       "        }</style>  \n",
       "<table id=\"T_bb24f8ba_6e4e_11e8_9e8c_c0c2c8a47bcb\" > \n",
       "<thead>    <tr> \n",
       "        <th class=\"blank level0\" ></th> \n",
       "        <th class=\"col_heading level0 col0\" >renda_mensal_min</th> \n",
       "        <th class=\"col_heading level0 col1\" >renda_mensal_max</th> \n",
       "        <th class=\"col_heading level0 col2\" >pagantes</th> \n",
       "    </tr></thead> \n",
       "<tbody>    <tr> \n",
       "        <th id=\"T_bb24f8ba_6e4e_11e8_9e8c_c0c2c8a47bcblevel0_row0\" class=\"row_heading level0 row0\" >0</th> \n",
       "        <td id=\"T_bb24f8ba_6e4e_11e8_9e8c_c0c2c8a47bcbrow0_col0\" class=\"data row0 col0\" >0.00</td> \n",
       "        <td id=\"T_bb24f8ba_6e4e_11e8_9e8c_c0c2c8a47bcbrow0_col1\" class=\"data row0 col1\" >0.00</td> \n",
       "        <td id=\"T_bb24f8ba_6e4e_11e8_9e8c_c0c2c8a47bcbrow0_col2\" class=\"data row0 col2\" >5,857,573.00</td> \n",
       "    </tr>    <tr> \n",
       "        <th id=\"T_bb24f8ba_6e4e_11e8_9e8c_c0c2c8a47bcblevel0_row1\" class=\"row_heading level0 row1\" >1</th> \n",
       "        <td id=\"T_bb24f8ba_6e4e_11e8_9e8c_c0c2c8a47bcbrow1_col0\" class=\"data row1 col0\" >0.01</td> \n",
       "        <td id=\"T_bb24f8ba_6e4e_11e8_9e8c_c0c2c8a47bcbrow1_col1\" class=\"data row1 col1\" >788.00</td> \n",
       "        <td id=\"T_bb24f8ba_6e4e_11e8_9e8c_c0c2c8a47bcbrow1_col2\" class=\"data row1 col2\" >24,242,700.00</td> \n",
       "    </tr>    <tr> \n",
       "        <th id=\"T_bb24f8ba_6e4e_11e8_9e8c_c0c2c8a47bcblevel0_row2\" class=\"row_heading level0 row2\" >2</th> \n",
       "        <td id=\"T_bb24f8ba_6e4e_11e8_9e8c_c0c2c8a47bcbrow2_col0\" class=\"data row2 col0\" >788.01</td> \n",
       "        <td id=\"T_bb24f8ba_6e4e_11e8_9e8c_c0c2c8a47bcbrow2_col1\" class=\"data row2 col1\" >1,576.00</td> \n",
       "        <td id=\"T_bb24f8ba_6e4e_11e8_9e8c_c0c2c8a47bcbrow2_col2\" class=\"data row2 col2\" >34,998,488.00</td> \n",
       "    </tr>    <tr> \n",
       "        <th id=\"T_bb24f8ba_6e4e_11e8_9e8c_c0c2c8a47bcblevel0_row3\" class=\"row_heading level0 row3\" >3</th> \n",
       "        <td id=\"T_bb24f8ba_6e4e_11e8_9e8c_c0c2c8a47bcbrow3_col0\" class=\"data row3 col0\" >1,576.01</td> \n",
       "        <td id=\"T_bb24f8ba_6e4e_11e8_9e8c_c0c2c8a47bcbrow3_col1\" class=\"data row3 col1\" >2,364.00</td> \n",
       "        <td id=\"T_bb24f8ba_6e4e_11e8_9e8c_c0c2c8a47bcbrow3_col2\" class=\"data row3 col2\" >11,942,932.00</td> \n",
       "    </tr>    <tr> \n",
       "        <th id=\"T_bb24f8ba_6e4e_11e8_9e8c_c0c2c8a47bcblevel0_row4\" class=\"row_heading level0 row4\" >4</th> \n",
       "        <td id=\"T_bb24f8ba_6e4e_11e8_9e8c_c0c2c8a47bcbrow4_col0\" class=\"data row4 col0\" >2,364.01</td> \n",
       "        <td id=\"T_bb24f8ba_6e4e_11e8_9e8c_c0c2c8a47bcbrow4_col1\" class=\"data row4 col1\" >3,940.00</td> \n",
       "        <td id=\"T_bb24f8ba_6e4e_11e8_9e8c_c0c2c8a47bcbrow4_col2\" class=\"data row4 col2\" >8,326,141.00</td> \n",
       "    </tr>    <tr> \n",
       "        <th id=\"T_bb24f8ba_6e4e_11e8_9e8c_c0c2c8a47bcblevel0_row5\" class=\"row_heading level0 row5\" >5</th> \n",
       "        <td id=\"T_bb24f8ba_6e4e_11e8_9e8c_c0c2c8a47bcbrow5_col0\" class=\"data row5 col0\" >3,940.01</td> \n",
       "        <td id=\"T_bb24f8ba_6e4e_11e8_9e8c_c0c2c8a47bcbrow5_col1\" class=\"data row5 col1\" >7,880.00</td> \n",
       "        <td id=\"T_bb24f8ba_6e4e_11e8_9e8c_c0c2c8a47bcbrow5_col2\" class=\"data row5 col2\" >5,493,526.00</td> \n",
       "    </tr>    <tr> \n",
       "        <th id=\"T_bb24f8ba_6e4e_11e8_9e8c_c0c2c8a47bcblevel0_row6\" class=\"row_heading level0 row6\" >6</th> \n",
       "        <td id=\"T_bb24f8ba_6e4e_11e8_9e8c_c0c2c8a47bcbrow6_col0\" class=\"data row6 col0\" >7,880.01</td> \n",
       "        <td id=\"T_bb24f8ba_6e4e_11e8_9e8c_c0c2c8a47bcbrow6_col1\" class=\"data row6 col1\" >15,760.00</td> \n",
       "        <td id=\"T_bb24f8ba_6e4e_11e8_9e8c_c0c2c8a47bcbrow6_col2\" class=\"data row6 col2\" >1,915,879.00</td> \n",
       "    </tr>    <tr> \n",
       "        <th id=\"T_bb24f8ba_6e4e_11e8_9e8c_c0c2c8a47bcblevel0_row7\" class=\"row_heading level0 row7\" >7</th> \n",
       "        <td id=\"T_bb24f8ba_6e4e_11e8_9e8c_c0c2c8a47bcbrow7_col0\" class=\"data row7 col0\" >15,760.01</td> \n",
       "        <td id=\"T_bb24f8ba_6e4e_11e8_9e8c_c0c2c8a47bcbrow7_col1\" class=\"data row7 col1\" >nan</td> \n",
       "        <td id=\"T_bb24f8ba_6e4e_11e8_9e8c_c0c2c8a47bcbrow7_col2\" class=\"data row7 col2\" >532,748.00</td> \n",
       "    </tr></tbody> \n",
       "</table> "
      ],
      "text/plain": [
       "<pandas.io.formats.style.Styler at 0x27905179cc0>"
      ]
     },
     "execution_count": 75,
     "metadata": {},
     "output_type": "execute_result"
    }
   ],
   "source": [
    "pnad_2015 = pd.read_csv(\"PNAD2015_tab7_2_1.csv\",index_col=False)\n",
    "print(\"Pagantes : {:0,.2f}\".format(sum(pnad_2015['pagantes'])))\n",
    "\n",
    "pnad_2015.style.format({'renda_mensal_min': '{:0,.2f}', 'renda_mensal_max': '{:0,.2f}', 'pagantes': '{:0,.2f}'})\\\n",
    "                  .bar(subset=['pagantes'], color='#32cd32')"
   ]
  },
  {
   "cell_type": "markdown",
   "metadata": {},
   "source": [
    "A PNAD nos diz que a quantidade de pessoas ocupadas, e que pagariam imposto, é menor do que a PEA, com um pico entre 1 e 2 salários mínimos de 2015. Podemos ver então qual o impacto na quantidade de pessoas isentas."
   ]
  },
  {
   "cell_type": "code",
   "execution_count": 76,
   "metadata": {},
   "outputs": [
    {
     "name": "stderr",
     "output_type": "stream",
     "text": [
      "C:\\Users\\Vitor\\Anaconda3\\lib\\site-packages\\ipykernel\\__main__.py:2: SettingWithCopyWarning: \n",
      "A value is trying to be set on a copy of a slice from a DataFrame\n",
      "\n",
      "See the caveats in the documentation: http://pandas.pydata.org/pandas-docs/stable/indexing.html#indexing-view-versus-copy\n",
      "  from ipykernel import kernelapp as app\n"
     ]
    },
    {
     "data": {
      "text/plain": [
       "0        0.000\n",
       "1      394.005\n",
       "2     1182.005\n",
       "3     1970.005\n",
       "4     3152.005\n",
       "5     5910.005\n",
       "6    11820.005\n",
       "7    54282.055\n",
       "Name: renda_mensal_media, dtype: float64"
      ]
     },
     "execution_count": 76,
     "metadata": {},
     "output_type": "execute_result"
    }
   ],
   "source": [
    "pnad_2015_modified = pnad_2015\n",
    "pnad_2015_modified['renda_mensal_max'][7] =  30934.70*3\n",
    "\n",
    "pnad_2015_modified['renda_mensal_media'] = (pnad_2015_modified['renda_mensal_min']+\\\n",
    "                                                      pnad_2015_modified['renda_mensal_max'])/2.0\n",
    "\n",
    "pnad_2015_modified['renda_mensal_media']"
   ]
  },
  {
   "cell_type": "code",
   "execution_count": 77,
   "metadata": {},
   "outputs": [
    {
     "name": "stdout",
     "output_type": "stream",
     "text": [
      "Pessoas isentas na Tabela atual : 71,070,227.00\n",
      "Pessoas isentas na Tabela nova :  81,204,763.50\n"
     ]
    }
   ],
   "source": [
    "print(\"Pessoas isentas na Tabela atual : {:0,.2f}\".format(sum([pnad_2015_modified['pagantes'][0] +\\\n",
    "                                                               pnad_2015_modified['pagantes'][1] +\\\n",
    "                                                               pnad_2015_modified['pagantes'][2] +\\\n",
    "                                                               pnad_2015_modified['pagantes'][3]/2.0])))\n",
    "print(\"Pessoas isentas na Tabela nova :  {:0,.2f}\".format(sum([pnad_2015_modified['pagantes'][0] +\\\n",
    "                                                               pnad_2015_modified['pagantes'][1] +\\\n",
    "                                                               pnad_2015_modified['pagantes'][2] +\\\n",
    "                                                               pnad_2015_modified['pagantes'][3] +\\\n",
    "                                                               pnad_2015_modified['pagantes'][4]/2.0])))"
   ]
  },
  {
   "cell_type": "markdown",
   "metadata": {},
   "source": [
    "O que nos leva a quase 10 milhões de pessoas a mais com isenção de imposto na nova tabela. \n",
    "\n",
    "Vamos agora calcular a arrecadação da tabela atual de acordo com os dados da PNAD."
   ]
  },
  {
   "cell_type": "code",
   "execution_count": 78,
   "metadata": {},
   "outputs": [
    {
     "name": "stderr",
     "output_type": "stream",
     "text": [
      "C:\\Users\\Vitor\\Anaconda3\\lib\\site-packages\\ipykernel\\__main__.py:13: SettingWithCopyWarning: \n",
      "A value is trying to be set on a copy of a slice from a DataFrame\n",
      "\n",
      "See the caveats in the documentation: http://pandas.pydata.org/pandas-docs/stable/indexing.html#indexing-view-versus-copy\n"
     ]
    }
   ],
   "source": [
    "import numpy as np\n",
    "\n",
    "current_bracket_revenue_pnad = pnad_2015_modified.copy()\n",
    "\n",
    "aliquotas = []\n",
    "for renda_media in pnad_2015_modified['renda_mensal_media']:\n",
    "    for i, row in current_taxbrackets.iterrows(): \n",
    "        if renda_media >= row['renda_mensal_min'] and (renda_media < row['renda_mensal_max'] or np.isnan(row['renda_mensal_max'])):\n",
    "            aliquotas.append(row['aliquota'])\n",
    "            \n",
    "            \n",
    "current_bracket_revenue_pnad['aliquota'] = aliquotas\n",
    "current_bracket_revenue_pnad['pagantes'][3] = current_bracket_revenue_pnad['pagantes'][3]/2.0"
   ]
  },
  {
   "cell_type": "code",
   "execution_count": 79,
   "metadata": {},
   "outputs": [
    {
     "name": "stdout",
     "output_type": "stream",
     "text": [
      "Pagantes : 87,338,521.00\n",
      "Tabela atual arrecadado:  372,272,915,489.60\n"
     ]
    },
    {
     "data": {
      "text/html": [
       "<style  type=\"text/css\" >\n",
       "    #T_bb545740_6e4e_11e8_8f0d_c0c2c8a47bcbrow0_col2 {\n",
       "            width:  10em;\n",
       "             height:  80%;\n",
       "            background:  linear-gradient(90deg,#32cd32 15.4%, transparent 0%);\n",
       "        }    #T_bb545740_6e4e_11e8_8f0d_c0c2c8a47bcbrow0_col3 {\n",
       "            width:  10em;\n",
       "             height:  80%;\n",
       "        }    #T_bb545740_6e4e_11e8_8f0d_c0c2c8a47bcbrow1_col2 {\n",
       "            width:  10em;\n",
       "             height:  80%;\n",
       "            background:  linear-gradient(90deg,#32cd32 68.8%, transparent 0%);\n",
       "        }    #T_bb545740_6e4e_11e8_8f0d_c0c2c8a47bcbrow1_col3 {\n",
       "            width:  10em;\n",
       "             height:  80%;\n",
       "        }    #T_bb545740_6e4e_11e8_8f0d_c0c2c8a47bcbrow2_col2 {\n",
       "            width:  10em;\n",
       "             height:  80%;\n",
       "            background:  linear-gradient(90deg,#32cd32 100.0%, transparent 0%);\n",
       "        }    #T_bb545740_6e4e_11e8_8f0d_c0c2c8a47bcbrow2_col3 {\n",
       "            width:  10em;\n",
       "             height:  80%;\n",
       "        }    #T_bb545740_6e4e_11e8_8f0d_c0c2c8a47bcbrow3_col2 {\n",
       "            width:  10em;\n",
       "             height:  80%;\n",
       "            background:  linear-gradient(90deg,#32cd32 15.8%, transparent 0%);\n",
       "        }    #T_bb545740_6e4e_11e8_8f0d_c0c2c8a47bcbrow3_col3 {\n",
       "            width:  10em;\n",
       "             height:  80%;\n",
       "            background:  linear-gradient(90deg,#45ed42 27.3%, transparent 0%);\n",
       "        }    #T_bb545740_6e4e_11e8_8f0d_c0c2c8a47bcbrow4_col2 {\n",
       "            width:  10em;\n",
       "             height:  80%;\n",
       "            background:  linear-gradient(90deg,#32cd32 22.6%, transparent 0%);\n",
       "        }    #T_bb545740_6e4e_11e8_8f0d_c0c2c8a47bcbrow4_col3 {\n",
       "            width:  10em;\n",
       "             height:  80%;\n",
       "            background:  linear-gradient(90deg,#45ed42 54.5%, transparent 0%);\n",
       "        }    #T_bb545740_6e4e_11e8_8f0d_c0c2c8a47bcbrow5_col2 {\n",
       "            width:  10em;\n",
       "             height:  80%;\n",
       "            background:  linear-gradient(90deg,#32cd32 14.4%, transparent 0%);\n",
       "        }    #T_bb545740_6e4e_11e8_8f0d_c0c2c8a47bcbrow5_col3 {\n",
       "            width:  10em;\n",
       "             height:  80%;\n",
       "            background:  linear-gradient(90deg,#45ed42 100.0%, transparent 0%);\n",
       "        }    #T_bb545740_6e4e_11e8_8f0d_c0c2c8a47bcbrow6_col2 {\n",
       "            width:  10em;\n",
       "             height:  80%;\n",
       "            background:  linear-gradient(90deg,#32cd32 4.0%, transparent 0%);\n",
       "        }    #T_bb545740_6e4e_11e8_8f0d_c0c2c8a47bcbrow6_col3 {\n",
       "            width:  10em;\n",
       "             height:  80%;\n",
       "            background:  linear-gradient(90deg,#45ed42 100.0%, transparent 0%);\n",
       "        }    #T_bb545740_6e4e_11e8_8f0d_c0c2c8a47bcbrow7_col2 {\n",
       "            width:  10em;\n",
       "             height:  80%;\n",
       "        }    #T_bb545740_6e4e_11e8_8f0d_c0c2c8a47bcbrow7_col3 {\n",
       "            width:  10em;\n",
       "             height:  80%;\n",
       "            background:  linear-gradient(90deg,#45ed42 100.0%, transparent 0%);\n",
       "        }</style>  \n",
       "<table id=\"T_bb545740_6e4e_11e8_8f0d_c0c2c8a47bcb\" > \n",
       "<thead>    <tr> \n",
       "        <th class=\"blank level0\" ></th> \n",
       "        <th class=\"col_heading level0 col0\" >renda_mensal_min</th> \n",
       "        <th class=\"col_heading level0 col1\" >renda_mensal_max</th> \n",
       "        <th class=\"col_heading level0 col2\" >pagantes</th> \n",
       "        <th class=\"col_heading level0 col3\" >aliquota</th> \n",
       "    </tr></thead> \n",
       "<tbody>    <tr> \n",
       "        <th id=\"T_bb545740_6e4e_11e8_8f0d_c0c2c8a47bcblevel0_row0\" class=\"row_heading level0 row0\" >0</th> \n",
       "        <td id=\"T_bb545740_6e4e_11e8_8f0d_c0c2c8a47bcbrow0_col0\" class=\"data row0 col0\" >0.00</td> \n",
       "        <td id=\"T_bb545740_6e4e_11e8_8f0d_c0c2c8a47bcbrow0_col1\" class=\"data row0 col1\" >0.00</td> \n",
       "        <td id=\"T_bb545740_6e4e_11e8_8f0d_c0c2c8a47bcbrow0_col2\" class=\"data row0 col2\" >5,857,573.00</td> \n",
       "        <td id=\"T_bb545740_6e4e_11e8_8f0d_c0c2c8a47bcbrow0_col3\" class=\"data row0 col3\" >0</td> \n",
       "    </tr>    <tr> \n",
       "        <th id=\"T_bb545740_6e4e_11e8_8f0d_c0c2c8a47bcblevel0_row1\" class=\"row_heading level0 row1\" >1</th> \n",
       "        <td id=\"T_bb545740_6e4e_11e8_8f0d_c0c2c8a47bcbrow1_col0\" class=\"data row1 col0\" >0.01</td> \n",
       "        <td id=\"T_bb545740_6e4e_11e8_8f0d_c0c2c8a47bcbrow1_col1\" class=\"data row1 col1\" >788.00</td> \n",
       "        <td id=\"T_bb545740_6e4e_11e8_8f0d_c0c2c8a47bcbrow1_col2\" class=\"data row1 col2\" >24,242,700.00</td> \n",
       "        <td id=\"T_bb545740_6e4e_11e8_8f0d_c0c2c8a47bcbrow1_col3\" class=\"data row1 col3\" >0</td> \n",
       "    </tr>    <tr> \n",
       "        <th id=\"T_bb545740_6e4e_11e8_8f0d_c0c2c8a47bcblevel0_row2\" class=\"row_heading level0 row2\" >2</th> \n",
       "        <td id=\"T_bb545740_6e4e_11e8_8f0d_c0c2c8a47bcbrow2_col0\" class=\"data row2 col0\" >788.01</td> \n",
       "        <td id=\"T_bb545740_6e4e_11e8_8f0d_c0c2c8a47bcbrow2_col1\" class=\"data row2 col1\" >1,576.00</td> \n",
       "        <td id=\"T_bb545740_6e4e_11e8_8f0d_c0c2c8a47bcbrow2_col2\" class=\"data row2 col2\" >34,998,488.00</td> \n",
       "        <td id=\"T_bb545740_6e4e_11e8_8f0d_c0c2c8a47bcbrow2_col3\" class=\"data row2 col3\" >0</td> \n",
       "    </tr>    <tr> \n",
       "        <th id=\"T_bb545740_6e4e_11e8_8f0d_c0c2c8a47bcblevel0_row3\" class=\"row_heading level0 row3\" >3</th> \n",
       "        <td id=\"T_bb545740_6e4e_11e8_8f0d_c0c2c8a47bcbrow3_col0\" class=\"data row3 col0\" >1,576.01</td> \n",
       "        <td id=\"T_bb545740_6e4e_11e8_8f0d_c0c2c8a47bcbrow3_col1\" class=\"data row3 col1\" >2,364.00</td> \n",
       "        <td id=\"T_bb545740_6e4e_11e8_8f0d_c0c2c8a47bcbrow3_col2\" class=\"data row3 col2\" >5,971,466.00</td> \n",
       "        <td id=\"T_bb545740_6e4e_11e8_8f0d_c0c2c8a47bcbrow3_col3\" class=\"data row3 col3\" >0.075</td> \n",
       "    </tr>    <tr> \n",
       "        <th id=\"T_bb545740_6e4e_11e8_8f0d_c0c2c8a47bcblevel0_row4\" class=\"row_heading level0 row4\" >4</th> \n",
       "        <td id=\"T_bb545740_6e4e_11e8_8f0d_c0c2c8a47bcbrow4_col0\" class=\"data row4 col0\" >2,364.01</td> \n",
       "        <td id=\"T_bb545740_6e4e_11e8_8f0d_c0c2c8a47bcbrow4_col1\" class=\"data row4 col1\" >3,940.00</td> \n",
       "        <td id=\"T_bb545740_6e4e_11e8_8f0d_c0c2c8a47bcbrow4_col2\" class=\"data row4 col2\" >8,326,141.00</td> \n",
       "        <td id=\"T_bb545740_6e4e_11e8_8f0d_c0c2c8a47bcbrow4_col3\" class=\"data row4 col3\" >0.15</td> \n",
       "    </tr>    <tr> \n",
       "        <th id=\"T_bb545740_6e4e_11e8_8f0d_c0c2c8a47bcblevel0_row5\" class=\"row_heading level0 row5\" >5</th> \n",
       "        <td id=\"T_bb545740_6e4e_11e8_8f0d_c0c2c8a47bcbrow5_col0\" class=\"data row5 col0\" >3,940.01</td> \n",
       "        <td id=\"T_bb545740_6e4e_11e8_8f0d_c0c2c8a47bcbrow5_col1\" class=\"data row5 col1\" >7,880.00</td> \n",
       "        <td id=\"T_bb545740_6e4e_11e8_8f0d_c0c2c8a47bcbrow5_col2\" class=\"data row5 col2\" >5,493,526.00</td> \n",
       "        <td id=\"T_bb545740_6e4e_11e8_8f0d_c0c2c8a47bcbrow5_col3\" class=\"data row5 col3\" >0.275</td> \n",
       "    </tr>    <tr> \n",
       "        <th id=\"T_bb545740_6e4e_11e8_8f0d_c0c2c8a47bcblevel0_row6\" class=\"row_heading level0 row6\" >6</th> \n",
       "        <td id=\"T_bb545740_6e4e_11e8_8f0d_c0c2c8a47bcbrow6_col0\" class=\"data row6 col0\" >7,880.01</td> \n",
       "        <td id=\"T_bb545740_6e4e_11e8_8f0d_c0c2c8a47bcbrow6_col1\" class=\"data row6 col1\" >15,760.00</td> \n",
       "        <td id=\"T_bb545740_6e4e_11e8_8f0d_c0c2c8a47bcbrow6_col2\" class=\"data row6 col2\" >1,915,879.00</td> \n",
       "        <td id=\"T_bb545740_6e4e_11e8_8f0d_c0c2c8a47bcbrow6_col3\" class=\"data row6 col3\" >0.275</td> \n",
       "    </tr>    <tr> \n",
       "        <th id=\"T_bb545740_6e4e_11e8_8f0d_c0c2c8a47bcblevel0_row7\" class=\"row_heading level0 row7\" >7</th> \n",
       "        <td id=\"T_bb545740_6e4e_11e8_8f0d_c0c2c8a47bcbrow7_col0\" class=\"data row7 col0\" >15,760.01</td> \n",
       "        <td id=\"T_bb545740_6e4e_11e8_8f0d_c0c2c8a47bcbrow7_col1\" class=\"data row7 col1\" >92,804.10</td> \n",
       "        <td id=\"T_bb545740_6e4e_11e8_8f0d_c0c2c8a47bcbrow7_col2\" class=\"data row7 col2\" >532,748.00</td> \n",
       "        <td id=\"T_bb545740_6e4e_11e8_8f0d_c0c2c8a47bcbrow7_col3\" class=\"data row7 col3\" >0.275</td> \n",
       "    </tr></tbody> \n",
       "</table> "
      ],
      "text/plain": [
       "<pandas.io.formats.style.Styler at 0x2795cc3ac50>"
      ]
     },
     "execution_count": 79,
     "metadata": {},
     "output_type": "execute_result"
    }
   ],
   "source": [
    "print(\"Pagantes : {:0,.2f}\".format(sum(current_bracket_revenue_pnad['pagantes'])))\n",
    "print(\"Tabela atual arrecadado:  {:0,.2f}\".format(total_revenue(current_bracket_revenue_pnad)))\n",
    "current_bracket_revenue_pnad[['renda_mensal_min','renda_mensal_max','pagantes','aliquota']]\\\n",
    "                  .style.format({'renda_mensal_min': '{:0,.2f}', 'renda_mensal_max': '{:0,.2f}', 'pagantes': '{:0,.2f}'})\\\n",
    "                  .bar(subset=['pagantes'], color='#32cd32')\\\n",
    "                  .bar(subset=['aliquota'], color='#45ed42')\n",
    "        "
   ]
  },
  {
   "cell_type": "markdown",
   "metadata": {},
   "source": [
    "Uou. Provalvemente errado. A questão aqui é que a PNAD não está preocupada em discernir o que é rendimento de tributável de outras coisas estranhas, como recebimento de lucros e dividendos que é como autonomos e empresários declaram seus salários. \n",
    "Além de rendimentos não-tributáveis, a economia brasileira contém uma grande parcela de informalidade e corrupção. \n",
    "\n",
    "Vou considerar então que todo cidadão tem uma probabilidade $D$ de desviar, de forma legal ou ilegal, o seu pagamento de imposto. Para encontrar o valor de $D$, calculo o total arrecadado até que ele seja próximo do [informado pela receita em 2015](http://www.valor.com.br/brasil/4403702/arrecadacao-soma-r-12-trilhao-em-2015-pior-resultado-em-cinco-anos): "
   ]
  },
  {
   "cell_type": "code",
   "execution_count": 80,
   "metadata": {},
   "outputs": [],
   "source": [
    "Ds = []\n",
    "Revenues = []\n",
    "\n",
    "for D in range(0,100):\n",
    "    \n",
    "    tempdf = current_bracket_revenue_pnad.copy()\n",
    "    \n",
    "    tempdf['pagantes'] = (1.0-D/100.0)*tempdf['pagantes'] \n",
    "    revenue = total_revenue(tempdf)\n",
    "    \n",
    "    Ds.append(D/100.0)\n",
    "    Revenues.append(revenue)"
   ]
  },
  {
   "cell_type": "code",
   "execution_count": 81,
   "metadata": {},
   "outputs": [
    {
     "data": {
      "text/plain": [
       "<matplotlib.legend.Legend at 0x2795cd34278>"
      ]
     },
     "execution_count": 81,
     "metadata": {},
     "output_type": "execute_result"
    },
    {
     "data": {
      "image/png": "[encoded data removed]",
      "text/plain": [
       "<matplotlib.figure.Figure at 0x2795cc0cda0>"
      ]
     },
     "metadata": {},
     "output_type": "display_data"
    }
   ],
   "source": [
    "%matplotlib inline\n",
    "import seaborn as sns\n",
    "\n",
    "sns.set(rc={'figure.figsize':(15.7,4)})\n",
    "sns.set_style(\"whitegrid\")\n",
    "\n",
    "df = pd.DataFrame({'D' : Ds, 'Revenue' : Revenues})\n",
    "\n",
    "df['Real Revenue'] = 29699000000\n",
    "\n",
    "ax = sns.regplot(x=df[\"D\"], y=df[\"Real Revenue\"],fit_reg=False,label=\"Real\")\n",
    "sns.regplot(x=df[\"D\"], y=df[\"Revenue\"],ax = ax, fit_reg=False,label=\"Simulated\")\n",
    "\n",
    "ax.set(xlim=(0, 1))\n",
    "ax.set(ylim=(0, 4e11))\n",
    "ax.set_xticks([0,0.5,0.75,0.85,0.92,1.0])\n",
    "ax.legend()"
   ]
  },
  {
   "cell_type": "code",
   "execution_count": 82,
   "metadata": {},
   "outputs": [
    {
     "name": "stdout",
     "output_type": "stream",
     "text": [
      "Tabela atual arrecadado:  29,781,833,239.17\n"
     ]
    },
    {
     "data": {
      "text/html": [
       "<style  type=\"text/css\" >\n",
       "    #T_bba584ec_6e4e_11e8_b35d_c0c2c8a47bcbrow0_col2 {\n",
       "            width:  10em;\n",
       "             height:  80%;\n",
       "            background:  linear-gradient(90deg,#32cd32 15.4%, transparent 0%);\n",
       "        }    #T_bba584ec_6e4e_11e8_b35d_c0c2c8a47bcbrow0_col3 {\n",
       "            width:  10em;\n",
       "             height:  80%;\n",
       "        }    #T_bba584ec_6e4e_11e8_b35d_c0c2c8a47bcbrow1_col2 {\n",
       "            width:  10em;\n",
       "             height:  80%;\n",
       "            background:  linear-gradient(90deg,#32cd32 68.8%, transparent 0%);\n",
       "        }    #T_bba584ec_6e4e_11e8_b35d_c0c2c8a47bcbrow1_col3 {\n",
       "            width:  10em;\n",
       "             height:  80%;\n",
       "        }    #T_bba584ec_6e4e_11e8_b35d_c0c2c8a47bcbrow2_col2 {\n",
       "            width:  10em;\n",
       "             height:  80%;\n",
       "            background:  linear-gradient(90deg,#32cd32 100.0%, transparent 0%);\n",
       "        }    #T_bba584ec_6e4e_11e8_b35d_c0c2c8a47bcbrow2_col3 {\n",
       "            width:  10em;\n",
       "             height:  80%;\n",
       "        }    #T_bba584ec_6e4e_11e8_b35d_c0c2c8a47bcbrow3_col2 {\n",
       "            width:  10em;\n",
       "             height:  80%;\n",
       "            background:  linear-gradient(90deg,#32cd32 15.8%, transparent 0%);\n",
       "        }    #T_bba584ec_6e4e_11e8_b35d_c0c2c8a47bcbrow3_col3 {\n",
       "            width:  10em;\n",
       "             height:  80%;\n",
       "            background:  linear-gradient(90deg,#45ed42 27.3%, transparent 0%);\n",
       "        }    #T_bba584ec_6e4e_11e8_b35d_c0c2c8a47bcbrow4_col2 {\n",
       "            width:  10em;\n",
       "             height:  80%;\n",
       "            background:  linear-gradient(90deg,#32cd32 22.6%, transparent 0%);\n",
       "        }    #T_bba584ec_6e4e_11e8_b35d_c0c2c8a47bcbrow4_col3 {\n",
       "            width:  10em;\n",
       "             height:  80%;\n",
       "            background:  linear-gradient(90deg,#45ed42 54.5%, transparent 0%);\n",
       "        }    #T_bba584ec_6e4e_11e8_b35d_c0c2c8a47bcbrow5_col2 {\n",
       "            width:  10em;\n",
       "             height:  80%;\n",
       "            background:  linear-gradient(90deg,#32cd32 14.4%, transparent 0%);\n",
       "        }    #T_bba584ec_6e4e_11e8_b35d_c0c2c8a47bcbrow5_col3 {\n",
       "            width:  10em;\n",
       "             height:  80%;\n",
       "            background:  linear-gradient(90deg,#45ed42 100.0%, transparent 0%);\n",
       "        }    #T_bba584ec_6e4e_11e8_b35d_c0c2c8a47bcbrow6_col2 {\n",
       "            width:  10em;\n",
       "             height:  80%;\n",
       "            background:  linear-gradient(90deg,#32cd32 4.0%, transparent 0%);\n",
       "        }    #T_bba584ec_6e4e_11e8_b35d_c0c2c8a47bcbrow6_col3 {\n",
       "            width:  10em;\n",
       "             height:  80%;\n",
       "            background:  linear-gradient(90deg,#45ed42 100.0%, transparent 0%);\n",
       "        }    #T_bba584ec_6e4e_11e8_b35d_c0c2c8a47bcbrow7_col2 {\n",
       "            width:  10em;\n",
       "             height:  80%;\n",
       "        }    #T_bba584ec_6e4e_11e8_b35d_c0c2c8a47bcbrow7_col3 {\n",
       "            width:  10em;\n",
       "             height:  80%;\n",
       "            background:  linear-gradient(90deg,#45ed42 100.0%, transparent 0%);\n",
       "        }</style>  \n",
       "<table id=\"T_bba584ec_6e4e_11e8_b35d_c0c2c8a47bcb\" > \n",
       "<thead>    <tr> \n",
       "        <th class=\"blank level0\" ></th> \n",
       "        <th class=\"col_heading level0 col0\" >renda_mensal_min</th> \n",
       "        <th class=\"col_heading level0 col1\" >renda_mensal_max</th> \n",
       "        <th class=\"col_heading level0 col2\" >pagantes</th> \n",
       "        <th class=\"col_heading level0 col3\" >aliquota</th> \n",
       "    </tr></thead> \n",
       "<tbody>    <tr> \n",
       "        <th id=\"T_bba584ec_6e4e_11e8_b35d_c0c2c8a47bcblevel0_row0\" class=\"row_heading level0 row0\" >0</th> \n",
       "        <td id=\"T_bba584ec_6e4e_11e8_b35d_c0c2c8a47bcbrow0_col0\" class=\"data row0 col0\" >0.00</td> \n",
       "        <td id=\"T_bba584ec_6e4e_11e8_b35d_c0c2c8a47bcbrow0_col1\" class=\"data row0 col1\" >0.00</td> \n",
       "        <td id=\"T_bba584ec_6e4e_11e8_b35d_c0c2c8a47bcbrow0_col2\" class=\"data row0 col2\" >468,605.84</td> \n",
       "        <td id=\"T_bba584ec_6e4e_11e8_b35d_c0c2c8a47bcbrow0_col3\" class=\"data row0 col3\" >0</td> \n",
       "    </tr>    <tr> \n",
       "        <th id=\"T_bba584ec_6e4e_11e8_b35d_c0c2c8a47bcblevel0_row1\" class=\"row_heading level0 row1\" >1</th> \n",
       "        <td id=\"T_bba584ec_6e4e_11e8_b35d_c0c2c8a47bcbrow1_col0\" class=\"data row1 col0\" >0.01</td> \n",
       "        <td id=\"T_bba584ec_6e4e_11e8_b35d_c0c2c8a47bcbrow1_col1\" class=\"data row1 col1\" >788.00</td> \n",
       "        <td id=\"T_bba584ec_6e4e_11e8_b35d_c0c2c8a47bcbrow1_col2\" class=\"data row1 col2\" >1,939,416.00</td> \n",
       "        <td id=\"T_bba584ec_6e4e_11e8_b35d_c0c2c8a47bcbrow1_col3\" class=\"data row1 col3\" >0</td> \n",
       "    </tr>    <tr> \n",
       "        <th id=\"T_bba584ec_6e4e_11e8_b35d_c0c2c8a47bcblevel0_row2\" class=\"row_heading level0 row2\" >2</th> \n",
       "        <td id=\"T_bba584ec_6e4e_11e8_b35d_c0c2c8a47bcbrow2_col0\" class=\"data row2 col0\" >788.01</td> \n",
       "        <td id=\"T_bba584ec_6e4e_11e8_b35d_c0c2c8a47bcbrow2_col1\" class=\"data row2 col1\" >1,576.00</td> \n",
       "        <td id=\"T_bba584ec_6e4e_11e8_b35d_c0c2c8a47bcbrow2_col2\" class=\"data row2 col2\" >2,799,879.04</td> \n",
       "        <td id=\"T_bba584ec_6e4e_11e8_b35d_c0c2c8a47bcbrow2_col3\" class=\"data row2 col3\" >0</td> \n",
       "    </tr>    <tr> \n",
       "        <th id=\"T_bba584ec_6e4e_11e8_b35d_c0c2c8a47bcblevel0_row3\" class=\"row_heading level0 row3\" >3</th> \n",
       "        <td id=\"T_bba584ec_6e4e_11e8_b35d_c0c2c8a47bcbrow3_col0\" class=\"data row3 col0\" >1,576.01</td> \n",
       "        <td id=\"T_bba584ec_6e4e_11e8_b35d_c0c2c8a47bcbrow3_col1\" class=\"data row3 col1\" >2,364.00</td> \n",
       "        <td id=\"T_bba584ec_6e4e_11e8_b35d_c0c2c8a47bcbrow3_col2\" class=\"data row3 col2\" >477,717.28</td> \n",
       "        <td id=\"T_bba584ec_6e4e_11e8_b35d_c0c2c8a47bcbrow3_col3\" class=\"data row3 col3\" >0.075</td> \n",
       "    </tr>    <tr> \n",
       "        <th id=\"T_bba584ec_6e4e_11e8_b35d_c0c2c8a47bcblevel0_row4\" class=\"row_heading level0 row4\" >4</th> \n",
       "        <td id=\"T_bba584ec_6e4e_11e8_b35d_c0c2c8a47bcbrow4_col0\" class=\"data row4 col0\" >2,364.01</td> \n",
       "        <td id=\"T_bba584ec_6e4e_11e8_b35d_c0c2c8a47bcbrow4_col1\" class=\"data row4 col1\" >3,940.00</td> \n",
       "        <td id=\"T_bba584ec_6e4e_11e8_b35d_c0c2c8a47bcbrow4_col2\" class=\"data row4 col2\" >666,091.28</td> \n",
       "        <td id=\"T_bba584ec_6e4e_11e8_b35d_c0c2c8a47bcbrow4_col3\" class=\"data row4 col3\" >0.15</td> \n",
       "    </tr>    <tr> \n",
       "        <th id=\"T_bba584ec_6e4e_11e8_b35d_c0c2c8a47bcblevel0_row5\" class=\"row_heading level0 row5\" >5</th> \n",
       "        <td id=\"T_bba584ec_6e4e_11e8_b35d_c0c2c8a47bcbrow5_col0\" class=\"data row5 col0\" >3,940.01</td> \n",
       "        <td id=\"T_bba584ec_6e4e_11e8_b35d_c0c2c8a47bcbrow5_col1\" class=\"data row5 col1\" >7,880.00</td> \n",
       "        <td id=\"T_bba584ec_6e4e_11e8_b35d_c0c2c8a47bcbrow5_col2\" class=\"data row5 col2\" >439,482.08</td> \n",
       "        <td id=\"T_bba584ec_6e4e_11e8_b35d_c0c2c8a47bcbrow5_col3\" class=\"data row5 col3\" >0.275</td> \n",
       "    </tr>    <tr> \n",
       "        <th id=\"T_bba584ec_6e4e_11e8_b35d_c0c2c8a47bcblevel0_row6\" class=\"row_heading level0 row6\" >6</th> \n",
       "        <td id=\"T_bba584ec_6e4e_11e8_b35d_c0c2c8a47bcbrow6_col0\" class=\"data row6 col0\" >7,880.01</td> \n",
       "        <td id=\"T_bba584ec_6e4e_11e8_b35d_c0c2c8a47bcbrow6_col1\" class=\"data row6 col1\" >15,760.00</td> \n",
       "        <td id=\"T_bba584ec_6e4e_11e8_b35d_c0c2c8a47bcbrow6_col2\" class=\"data row6 col2\" >153,270.32</td> \n",
       "        <td id=\"T_bba584ec_6e4e_11e8_b35d_c0c2c8a47bcbrow6_col3\" class=\"data row6 col3\" >0.275</td> \n",
       "    </tr>    <tr> \n",
       "        <th id=\"T_bba584ec_6e4e_11e8_b35d_c0c2c8a47bcblevel0_row7\" class=\"row_heading level0 row7\" >7</th> \n",
       "        <td id=\"T_bba584ec_6e4e_11e8_b35d_c0c2c8a47bcbrow7_col0\" class=\"data row7 col0\" >15,760.01</td> \n",
       "        <td id=\"T_bba584ec_6e4e_11e8_b35d_c0c2c8a47bcbrow7_col1\" class=\"data row7 col1\" >92,804.10</td> \n",
       "        <td id=\"T_bba584ec_6e4e_11e8_b35d_c0c2c8a47bcbrow7_col2\" class=\"data row7 col2\" >42,619.84</td> \n",
       "        <td id=\"T_bba584ec_6e4e_11e8_b35d_c0c2c8a47bcbrow7_col3\" class=\"data row7 col3\" >0.275</td> \n",
       "    </tr></tbody> \n",
       "</table> "
      ],
      "text/plain": [
       "<pandas.io.formats.style.Styler at 0x2795faf0358>"
      ]
     },
     "execution_count": 82,
     "metadata": {},
     "output_type": "execute_result"
    }
   ],
   "source": [
    "D = 0.92\n",
    "current_bracket_revenue_pnad['pagantes'] = current_bracket_revenue_pnad['pagantes']*(1-D)\n",
    "\n",
    "print(\"Tabela atual arrecadado:  {:0,.2f}\".format(total_revenue(current_bracket_revenue_pnad)))\n",
    "\n",
    "current_bracket_revenue_pnad[['renda_mensal_min','renda_mensal_max','pagantes','aliquota']]\\\n",
    "                  .style.format({'renda_mensal_min': '{:0,.2f}', 'renda_mensal_max': '{:0,.2f}', 'pagantes': '{:0,.2f}'})\\\n",
    "                  .bar(subset=['pagantes'], color='#32cd32')\\\n",
    "                  .bar(subset=['aliquota'], color='#45ed42')"
   ]
  },
  {
   "cell_type": "markdown",
   "metadata": {},
   "source": [
    "O que nos dá um belo e desconfortável valor para $D$ de 92%. O que é como dizer que na média 92% da renda de uma pessoa não é tributável. Com o que sabemos de corrupção no brasil, esperava um valor de $D$ alto, mas não tão alto.\n",
    "\n",
    "Por hora, vamos assumir que a metodologia é correta e replicar então a PNAD e $D$ na nova tabela:"
   ]
  },
  {
   "cell_type": "code",
   "execution_count": 83,
   "metadata": {},
   "outputs": [
    {
     "name": "stderr",
     "output_type": "stream",
     "text": [
      "C:\\Users\\Vitor\\Anaconda3\\lib\\site-packages\\ipykernel\\__main__.py:11: SettingWithCopyWarning: \n",
      "A value is trying to be set on a copy of a slice from a DataFrame\n",
      "\n",
      "See the caveats in the documentation: http://pandas.pydata.org/pandas-docs/stable/indexing.html#indexing-view-versus-copy\n",
      "C:\\Users\\Vitor\\Anaconda3\\lib\\site-packages\\ipykernel\\__main__.py:12: SettingWithCopyWarning: \n",
      "A value is trying to be set on a copy of a slice from a DataFrame\n",
      "\n",
      "See the caveats in the documentation: http://pandas.pydata.org/pandas-docs/stable/indexing.html#indexing-view-versus-copy\n"
     ]
    }
   ],
   "source": [
    "pl2015_bracket_revenue_pnad = pnad_2015_modified.copy()\n",
    "\n",
    "aliquotas = []\n",
    "for renda_media in pnad_2015_modified['renda_mensal_media']:\n",
    "    for i, row in pl2015_taxbrackets.iterrows():        \n",
    "        if renda_media >= row['renda_mensal_min'] and (renda_media < row['renda_mensal_max'] or np.isnan(row['renda_mensal_max'])):\n",
    "            aliquotas.append(row['aliquota'])\n",
    "    \n",
    "pl2015_bracket_revenue_pnad['aliquota'] = aliquotas\n",
    "\n",
    "pl2015_bracket_revenue_pnad['pagantes'][4] = pl2015_bracket_revenue_pnad['pagantes'][4]/2.0\n",
    "pl2015_bracket_revenue_pnad['aliquota'][4] = pl2015_taxbrackets['aliquota'][1]"
   ]
  },
  {
   "cell_type": "code",
   "execution_count": 84,
   "metadata": {},
   "outputs": [],
   "source": [
    "pl2015_bracket_revenue_pnad['pagantes'] = pl2015_bracket_revenue_pnad['pagantes']*(1.0-D)"
   ]
  },
  {
   "cell_type": "code",
   "execution_count": 85,
   "metadata": {},
   "outputs": [
    {
     "name": "stdout",
     "output_type": "stream",
     "text": [
      "Tabela nova arrecadado:  21,327,338,674.46\n"
     ]
    },
    {
     "data": {
      "text/html": [
       "<style  type=\"text/css\" >\n",
       "    #T_bbd53012_6e4e_11e8_9a36_c0c2c8a47bcbrow0_col2 {\n",
       "            width:  10em;\n",
       "             height:  80%;\n",
       "            background:  linear-gradient(90deg,#32cd32 15.4%, transparent 0%);\n",
       "        }    #T_bbd53012_6e4e_11e8_9a36_c0c2c8a47bcbrow0_col3 {\n",
       "            width:  10em;\n",
       "             height:  80%;\n",
       "        }    #T_bbd53012_6e4e_11e8_9a36_c0c2c8a47bcbrow1_col2 {\n",
       "            width:  10em;\n",
       "             height:  80%;\n",
       "            background:  linear-gradient(90deg,#32cd32 68.8%, transparent 0%);\n",
       "        }    #T_bbd53012_6e4e_11e8_9a36_c0c2c8a47bcbrow1_col3 {\n",
       "            width:  10em;\n",
       "             height:  80%;\n",
       "        }    #T_bbd53012_6e4e_11e8_9a36_c0c2c8a47bcbrow2_col2 {\n",
       "            width:  10em;\n",
       "             height:  80%;\n",
       "            background:  linear-gradient(90deg,#32cd32 100.0%, transparent 0%);\n",
       "        }    #T_bbd53012_6e4e_11e8_9a36_c0c2c8a47bcbrow2_col3 {\n",
       "            width:  10em;\n",
       "             height:  80%;\n",
       "        }    #T_bbd53012_6e4e_11e8_9a36_c0c2c8a47bcbrow3_col2 {\n",
       "            width:  10em;\n",
       "             height:  80%;\n",
       "            background:  linear-gradient(90deg,#32cd32 33.1%, transparent 0%);\n",
       "        }    #T_bbd53012_6e4e_11e8_9a36_c0c2c8a47bcbrow3_col3 {\n",
       "            width:  10em;\n",
       "             height:  80%;\n",
       "        }    #T_bbd53012_6e4e_11e8_9a36_c0c2c8a47bcbrow4_col2 {\n",
       "            width:  10em;\n",
       "             height:  80%;\n",
       "            background:  linear-gradient(90deg,#32cd32 10.5%, transparent 0%);\n",
       "        }    #T_bbd53012_6e4e_11e8_9a36_c0c2c8a47bcbrow4_col3 {\n",
       "            width:  10em;\n",
       "             height:  80%;\n",
       "            background:  linear-gradient(90deg,#45ed42 12.5%, transparent 0%);\n",
       "        }    #T_bbd53012_6e4e_11e8_9a36_c0c2c8a47bcbrow5_col2 {\n",
       "            width:  10em;\n",
       "             height:  80%;\n",
       "            background:  linear-gradient(90deg,#32cd32 14.4%, transparent 0%);\n",
       "        }    #T_bbd53012_6e4e_11e8_9a36_c0c2c8a47bcbrow5_col3 {\n",
       "            width:  10em;\n",
       "             height:  80%;\n",
       "            background:  linear-gradient(90deg,#45ed42 25.0%, transparent 0%);\n",
       "        }    #T_bbd53012_6e4e_11e8_9a36_c0c2c8a47bcbrow6_col2 {\n",
       "            width:  10em;\n",
       "             height:  80%;\n",
       "            background:  linear-gradient(90deg,#32cd32 4.0%, transparent 0%);\n",
       "        }    #T_bbd53012_6e4e_11e8_9a36_c0c2c8a47bcbrow6_col3 {\n",
       "            width:  10em;\n",
       "             height:  80%;\n",
       "            background:  linear-gradient(90deg,#45ed42 50.0%, transparent 0%);\n",
       "        }    #T_bbd53012_6e4e_11e8_9a36_c0c2c8a47bcbrow7_col2 {\n",
       "            width:  10em;\n",
       "             height:  80%;\n",
       "        }    #T_bbd53012_6e4e_11e8_9a36_c0c2c8a47bcbrow7_col3 {\n",
       "            width:  10em;\n",
       "             height:  80%;\n",
       "            background:  linear-gradient(90deg,#45ed42 100.0%, transparent 0%);\n",
       "        }</style>  \n",
       "<table id=\"T_bbd53012_6e4e_11e8_9a36_c0c2c8a47bcb\" > \n",
       "<thead>    <tr> \n",
       "        <th class=\"blank level0\" ></th> \n",
       "        <th class=\"col_heading level0 col0\" >renda_mensal_min</th> \n",
       "        <th class=\"col_heading level0 col1\" >renda_mensal_max</th> \n",
       "        <th class=\"col_heading level0 col2\" >pagantes</th> \n",
       "        <th class=\"col_heading level0 col3\" >aliquota</th> \n",
       "    </tr></thead> \n",
       "<tbody>    <tr> \n",
       "        <th id=\"T_bbd53012_6e4e_11e8_9a36_c0c2c8a47bcblevel0_row0\" class=\"row_heading level0 row0\" >0</th> \n",
       "        <td id=\"T_bbd53012_6e4e_11e8_9a36_c0c2c8a47bcbrow0_col0\" class=\"data row0 col0\" >0.00</td> \n",
       "        <td id=\"T_bbd53012_6e4e_11e8_9a36_c0c2c8a47bcbrow0_col1\" class=\"data row0 col1\" >0.00</td> \n",
       "        <td id=\"T_bbd53012_6e4e_11e8_9a36_c0c2c8a47bcbrow0_col2\" class=\"data row0 col2\" >468,605.84</td> \n",
       "        <td id=\"T_bbd53012_6e4e_11e8_9a36_c0c2c8a47bcbrow0_col3\" class=\"data row0 col3\" >0</td> \n",
       "    </tr>    <tr> \n",
       "        <th id=\"T_bbd53012_6e4e_11e8_9a36_c0c2c8a47bcblevel0_row1\" class=\"row_heading level0 row1\" >1</th> \n",
       "        <td id=\"T_bbd53012_6e4e_11e8_9a36_c0c2c8a47bcbrow1_col0\" class=\"data row1 col0\" >0.01</td> \n",
       "        <td id=\"T_bbd53012_6e4e_11e8_9a36_c0c2c8a47bcbrow1_col1\" class=\"data row1 col1\" >788.00</td> \n",
       "        <td id=\"T_bbd53012_6e4e_11e8_9a36_c0c2c8a47bcbrow1_col2\" class=\"data row1 col2\" >1,939,416.00</td> \n",
       "        <td id=\"T_bbd53012_6e4e_11e8_9a36_c0c2c8a47bcbrow1_col3\" class=\"data row1 col3\" >0</td> \n",
       "    </tr>    <tr> \n",
       "        <th id=\"T_bbd53012_6e4e_11e8_9a36_c0c2c8a47bcblevel0_row2\" class=\"row_heading level0 row2\" >2</th> \n",
       "        <td id=\"T_bbd53012_6e4e_11e8_9a36_c0c2c8a47bcbrow2_col0\" class=\"data row2 col0\" >788.01</td> \n",
       "        <td id=\"T_bbd53012_6e4e_11e8_9a36_c0c2c8a47bcbrow2_col1\" class=\"data row2 col1\" >1,576.00</td> \n",
       "        <td id=\"T_bbd53012_6e4e_11e8_9a36_c0c2c8a47bcbrow2_col2\" class=\"data row2 col2\" >2,799,879.04</td> \n",
       "        <td id=\"T_bbd53012_6e4e_11e8_9a36_c0c2c8a47bcbrow2_col3\" class=\"data row2 col3\" >0</td> \n",
       "    </tr>    <tr> \n",
       "        <th id=\"T_bbd53012_6e4e_11e8_9a36_c0c2c8a47bcblevel0_row3\" class=\"row_heading level0 row3\" >3</th> \n",
       "        <td id=\"T_bbd53012_6e4e_11e8_9a36_c0c2c8a47bcbrow3_col0\" class=\"data row3 col0\" >1,576.01</td> \n",
       "        <td id=\"T_bbd53012_6e4e_11e8_9a36_c0c2c8a47bcbrow3_col1\" class=\"data row3 col1\" >2,364.00</td> \n",
       "        <td id=\"T_bbd53012_6e4e_11e8_9a36_c0c2c8a47bcbrow3_col2\" class=\"data row3 col2\" >955,434.56</td> \n",
       "        <td id=\"T_bbd53012_6e4e_11e8_9a36_c0c2c8a47bcbrow3_col3\" class=\"data row3 col3\" >0</td> \n",
       "    </tr>    <tr> \n",
       "        <th id=\"T_bbd53012_6e4e_11e8_9a36_c0c2c8a47bcblevel0_row4\" class=\"row_heading level0 row4\" >4</th> \n",
       "        <td id=\"T_bbd53012_6e4e_11e8_9a36_c0c2c8a47bcbrow4_col0\" class=\"data row4 col0\" >2,364.01</td> \n",
       "        <td id=\"T_bbd53012_6e4e_11e8_9a36_c0c2c8a47bcbrow4_col1\" class=\"data row4 col1\" >3,940.00</td> \n",
       "        <td id=\"T_bbd53012_6e4e_11e8_9a36_c0c2c8a47bcbrow4_col2\" class=\"data row4 col2\" >333,045.60</td> \n",
       "        <td id=\"T_bbd53012_6e4e_11e8_9a36_c0c2c8a47bcbrow4_col3\" class=\"data row4 col3\" >0.05</td> \n",
       "    </tr>    <tr> \n",
       "        <th id=\"T_bbd53012_6e4e_11e8_9a36_c0c2c8a47bcblevel0_row5\" class=\"row_heading level0 row5\" >5</th> \n",
       "        <td id=\"T_bbd53012_6e4e_11e8_9a36_c0c2c8a47bcbrow5_col0\" class=\"data row5 col0\" >3,940.01</td> \n",
       "        <td id=\"T_bbd53012_6e4e_11e8_9a36_c0c2c8a47bcbrow5_col1\" class=\"data row5 col1\" >7,880.00</td> \n",
       "        <td id=\"T_bbd53012_6e4e_11e8_9a36_c0c2c8a47bcbrow5_col2\" class=\"data row5 col2\" >439,482.08</td> \n",
       "        <td id=\"T_bbd53012_6e4e_11e8_9a36_c0c2c8a47bcbrow5_col3\" class=\"data row5 col3\" >0.1</td> \n",
       "    </tr>    <tr> \n",
       "        <th id=\"T_bbd53012_6e4e_11e8_9a36_c0c2c8a47bcblevel0_row6\" class=\"row_heading level0 row6\" >6</th> \n",
       "        <td id=\"T_bbd53012_6e4e_11e8_9a36_c0c2c8a47bcbrow6_col0\" class=\"data row6 col0\" >7,880.01</td> \n",
       "        <td id=\"T_bbd53012_6e4e_11e8_9a36_c0c2c8a47bcbrow6_col1\" class=\"data row6 col1\" >15,760.00</td> \n",
       "        <td id=\"T_bbd53012_6e4e_11e8_9a36_c0c2c8a47bcbrow6_col2\" class=\"data row6 col2\" >153,270.32</td> \n",
       "        <td id=\"T_bbd53012_6e4e_11e8_9a36_c0c2c8a47bcbrow6_col3\" class=\"data row6 col3\" >0.2</td> \n",
       "    </tr>    <tr> \n",
       "        <th id=\"T_bbd53012_6e4e_11e8_9a36_c0c2c8a47bcblevel0_row7\" class=\"row_heading level0 row7\" >7</th> \n",
       "        <td id=\"T_bbd53012_6e4e_11e8_9a36_c0c2c8a47bcbrow7_col0\" class=\"data row7 col0\" >15,760.01</td> \n",
       "        <td id=\"T_bbd53012_6e4e_11e8_9a36_c0c2c8a47bcbrow7_col1\" class=\"data row7 col1\" >92,804.10</td> \n",
       "        <td id=\"T_bbd53012_6e4e_11e8_9a36_c0c2c8a47bcbrow7_col2\" class=\"data row7 col2\" >42,619.84</td> \n",
       "        <td id=\"T_bbd53012_6e4e_11e8_9a36_c0c2c8a47bcbrow7_col3\" class=\"data row7 col3\" >0.4</td> \n",
       "    </tr></tbody> \n",
       "</table> "
      ],
      "text/plain": [
       "<pandas.io.formats.style.Styler at 0x2795cd7ccf8>"
      ]
     },
     "execution_count": 85,
     "metadata": {},
     "output_type": "execute_result"
    }
   ],
   "source": [
    "print(\"Tabela nova arrecadado:  {:0,.2f}\".format(total_revenue(pl2015_bracket_revenue_pnad)))\n",
    "pl2015_bracket_revenue_pnad[['renda_mensal_min','renda_mensal_max','pagantes','aliquota']]\\\n",
    "                  .style.format({'renda_mensal_min': '{:0,.2f}', 'renda_mensal_max': '{:0,.2f}', 'pagantes': '{:0,.2f}'})\\\n",
    "                  .bar(subset=['pagantes'], color='#32cd32')\\\n",
    "                  .bar(subset=['aliquota'], color='#45ed42')"
   ]
  },
  {
   "cell_type": "markdown",
   "metadata": {},
   "source": [
    "A nova tabela então retira muita gente das faixas pagantes e não compensa com o aumento de impostos dos mais ricos. A arrecadação chega a cair quase 7 bilhões nesse novo esquema. \n",
    "\n",
    "O problema desse tipo de análise, mais uma vez, são os mais ricos. Não é razoável assumir uma distribuição uniforme de pessoas entre os riquíssimos. Isso pode estar criando distorções que prejudicam a arrecadação da tabela nova. Podemos resolver isso assumindo algumas coisas a mais."
   ]
  },
  {
   "cell_type": "markdown",
   "metadata": {},
   "source": [
    "## 4. Impacto sob influência do hit Xibom bombom <a class=\"anchor\" id=\"secao-4\"></a>"
   ]
  },
  {
   "cell_type": "markdown",
   "metadata": {},
   "source": [
    "O grupo \"As meninas\" ilustrou muito bem em seu hit \"Xibom bombom\" a tendência de acumulação de riquezas da sociedade:\n",
    "\n",
    "\"E o destino todo mundo ja conhece: é que o de cima sobe e o debaixo desce.\"\n",
    "-- Meninas, As. Hit Xibom bombom, circa 1999"
   ]
  },
  {
   "cell_type": "markdown",
   "metadata": {},
   "source": [
    "As meninas foram apenas um dos grupos a perceber esse mecanismo: uma quantia é distribúida em uma população proporcionalmente ao que os indivíduos já possuem. Em outras áreas da pesquisa ele também é conhecido como [Efeito Mateus](https://en.wikipedia.org/wiki/Matthew_effect), [Lei de Gibrat](https://en.wikipedia.org/wiki/Gibrat%27s_law) ou, simplesmente, [Preferential Attachment](https://en.wikipedia.org/wiki/Preferential_attachment).\n",
    "\n",
    "Seguindo esse mecanismo, dificilmente a populacão que ganha mais de 15760,00, a última faixa da PNAD, estaria uniformente distribuída em intervalos de renda. Algumas poucas pessoas ganhariam muito dinheiro, e a distribuição seria mais parecida com algo exponencial. Análises sobre Preferential Attachment sugerem a forma dessa distribuição. Seja $r$ a renda de uma pessoa e $F(r)$ a quantidade de pessoas naquela renda, temos:\n",
    "\n",
    "$$F(r) = A r^{-\\lambda},$$\n",
    "\n",
    "em que $A$ e $\\lambda$ representam parâmetros de escala a serem ajustados aos dados. Aplicando log dos dois lados e desenferrujando um pouco minha algebra de ensino médio, temos:\n",
    "\n",
    "$$\\ln{F(r)} = \\ln{A r^{-\\lambda}},$$\n",
    "$$\\ln{F(r)} =  -\\lambda \\ln{r} + \\ln{A} .$$\n",
    "\n",
    "Para ter uma ideia de quais seriam $A$ e $\\lambda$, podemos utilizar as Faixas 2 a 6 da PNAD. Eu também poderia ter escolhido uma distribuição um pouco mais complicada e utilizar as Faixas 0 e 1, mas as contas ficariam significamente mais complicadas e não afetariam muito a distribuição de pessoas mais ricas, nosso foco aqui."
   ]
  },
  {
   "cell_type": "code",
   "execution_count": 86,
   "metadata": {},
   "outputs": [
    {
     "data": {
      "text/plain": [
       "[(13, 18)]"
      ]
     },
     "execution_count": 86,
     "metadata": {},
     "output_type": "execute_result"
    },
    {
     "data": {
      "image/png": "[encoded data removed]",
      "text/plain": [
       "<matplotlib.figure.Figure at 0x2795f802390>"
      ]
     },
     "metadata": {},
     "output_type": "display_data"
    }
   ],
   "source": [
    "pnad_good = pnad_2015[['renda_mensal_media','pagantes']][2:7]\n",
    "pnad_good['ln r'] = np.log(pnad_good['renda_mensal_media']) #sim, a função do logaritmo natural no numpy se chama log\n",
    "pnad_good['ln F(r)'] = np.log(pnad_good['pagantes'])\n",
    "\n",
    "ax = sns.regplot(x=pnad_good[\"ln r\"], y=pnad_good[\"ln F(r)\"],fit_reg=True,label=\"log da pnad\")\n",
    "\n",
    "ax.set(xlim=(7, 9.5))\n",
    "ax.set(ylim=(13, 18))"
   ]
  },
  {
   "cell_type": "markdown",
   "metadata": {},
   "source": [
    "Que lindo fit de 5 pontos! Perceba que todos eles estão dentro do intervalo de confiança. Fantástico!\n",
    "\n",
    "Na verdade, é extremamente fácil fitar qualquer coisa com 5 observações, então se a gente não tivesse conseguido essa curva aí sim eu estaria preocupado.\n",
    "\n",
    "Assumindo que tudo deu certo, podemos calcular os coeficientes a partir do fit:"
   ]
  },
  {
   "cell_type": "code",
   "execution_count": 87,
   "metadata": {},
   "outputs": [
    {
     "name": "stdout",
     "output_type": "stream",
     "text": [
      "lambda = -1.151819\n",
      "A = 98,283,032,079.26\n"
     ]
    }
   ],
   "source": [
    "import scipy\n",
    "\n",
    "lbda, lnA, _,_,_ = scipy.stats.linregress(x=ax.get_lines()[0].get_xdata(),y=ax.get_lines()[0].get_ydata())\n",
    "\n",
    "print(\"lambda = %.6f\"%(lbda))\n",
    "print(\"A = {:0,.2f}\".format(np.exp(lnA)))\n",
    "\n",
    "def pnad_F_r(r):\n",
    "    return np.exp(lnA)*(r**lbda)"
   ]
  },
  {
   "cell_type": "markdown",
   "metadata": {},
   "source": [
    "Se $\\lambda$ fosse igual a 1, a relação de entra renda e população seria totalmente linear. Um $\\lambda>1$ significa que algum tipo de crescimento exponencial está ocorrendo, exatamente o que As Meninas e os pesquisadores do Preferential Attachment previram. "
   ]
  },
  {
   "cell_type": "markdown",
   "metadata": {},
   "source": [
    "A função $F(r)$ nos dá uma boa idéia de como é a distribuição de pessoas de acordo com a renda. É claro que ela não é a distriuição em si, para isso a integral de $F(r)$ a partir de 15760 deveria ser exatamente a quantidade de pessoas na última faixa. Mas também teríamos que assumir uma forma mais complicada para a $F(r)$, sem muitas garantias de que isso retornaria um valor mais exato.\n",
    "\n",
    "Prosseguindo, vamos simular a renda das cerca de 500mil pessoas da última faixa da PNAD. O procedimento é razoávelmente simples: para uma certa renda $r$, a probabilidade daquela pessoa ser escolhida obedece a $F(r)$, com rendas menores sendo mais prováveis que rendas gigantes, mas ainda assim garantindo que alguns ricos existirão. \n",
    "\n",
    "Preciso ainda assim definir um limite superior de renda para esse experimento, *lim_sup_r*, por limitações do método numérico. Em todo caso, grandes valores $r$ são altamente improváveis, então isso não deve fazer muita diferença."
   ]
  },
  {
   "cell_type": "code",
   "execution_count": 88,
   "metadata": {},
   "outputs": [
    {
     "data": {
      "text/plain": [
       "[(15760, 500000)]"
      ]
     },
     "execution_count": 88,
     "metadata": {},
     "output_type": "execute_result"
    },
    {
     "data": {
      "image/png": "[encoded data removed]",
      "text/plain": [
       "<matplotlib.figure.Figure at 0x2795cc33ac8>"
      ]
     },
     "metadata": {},
     "output_type": "display_data"
    }
   ],
   "source": [
    "lim_sup_r = int(0.5e6)\n",
    "\n",
    "from random import choices\n",
    "\n",
    "rs = []\n",
    "Frs = []\n",
    "\n",
    "for r in range(15760,lim_sup_r):\n",
    "    rs.append(r)\n",
    "    Frs.append(pnad_F_r(r)) \n",
    "\n",
    "rich_people = choices(population = rs, weights=Frs,k=532748)\n",
    "ax = sns.distplot(rich_people)\n",
    "\n",
    "ax.set(xlim=(15760, lim_sup_r))"
   ]
  },
  {
   "cell_type": "code",
   "execution_count": 89,
   "metadata": {},
   "outputs": [],
   "source": [
    "rich_people_df= pd.DataFrame()\n",
    "rich_people_df['renda_mensal_media'] = rich_people\n",
    "rich_people_df['pagantes'] = 1"
   ]
  },
  {
   "cell_type": "markdown",
   "metadata": {},
   "source": [
    "Agora sim podemos calcular o valor da arrecadação na tabela atual:"
   ]
  },
  {
   "cell_type": "code",
   "execution_count": 90,
   "metadata": {},
   "outputs": [
    {
     "name": "stdout",
     "output_type": "stream",
     "text": [
      "Tabela atual arrecadado:  506,061,290,543.80\n"
     ]
    }
   ],
   "source": [
    "rich_people_df['aliquota'] = 0.275\n",
    "current_bracket_revenue_pnad['pagantes'] = current_bracket_revenue_pnad['pagantes']/(1-D)\n",
    "\n",
    "pnad_atual_completa = pd.concat([current_bracket_revenue_pnad[['renda_mensal_media','pagantes','aliquota']][0:7],rich_people_df])\n",
    "print(\"Tabela atual arrecadado:  {:0,.2f}\".format(total_revenue(pnad_atual_completa)))"
   ]
  },
  {
   "cell_type": "markdown",
   "metadata": {},
   "source": [
    "Um valor um pouco maior que do que nossa versao simplificada da seção anterior. Agora podemos calcular o fator de desvio de renda novamente, aqui chamado de $D_2$:"
   ]
  },
  {
   "cell_type": "code",
   "execution_count": 91,
   "metadata": {},
   "outputs": [],
   "source": [
    "Ds = []\n",
    "Revenues = []\n",
    "\n",
    "for D_2 in range(0,100):\n",
    "    \n",
    "    tempdf = pnad_atual_completa.copy()\n",
    "    \n",
    "    tempdf['pagantes'] = (1.0-D_2/100.0)*tempdf['pagantes'] \n",
    "    revenue = total_revenue(tempdf)\n",
    "    \n",
    "    Ds.append(D_2/100.0)\n",
    "    Revenues.append(revenue)"
   ]
  },
  {
   "cell_type": "code",
   "execution_count": 93,
   "metadata": {},
   "outputs": [
    {
     "data": {
      "text/plain": [
       "<matplotlib.legend.Legend at 0x279051427b8>"
      ]
     },
     "execution_count": 93,
     "metadata": {},
     "output_type": "execute_result"
    },
    {
     "data": {
      "image/png": "[encoded data removed]",
      "text/plain": [
       "<matplotlib.figure.Figure at 0x27905142400>"
      ]
     },
     "metadata": {},
     "output_type": "display_data"
    }
   ],
   "source": [
    "df = pd.DataFrame({'D_2' : Ds, 'Revenue' : Revenues})\n",
    "\n",
    "df['Real Revenue'] = 29699000000\n",
    "\n",
    "ax = sns.regplot(x=df[\"D_2\"], y=df[\"Real Revenue\"],fit_reg=False,label=\"Real\")\n",
    "sns.regplot(x=df[\"D_2\"], y=df[\"Revenue\"],ax = ax, fit_reg=False,label=\"Simulated\")\n",
    "\n",
    "ax.set(xlim=(0, 1))\n",
    "ax.set(ylim=(0, 5.1e11))\n",
    "ax.set_xticks([0,0.5,0.75,0.85,0.94,1.0])\n",
    "ax.legend()"
   ]
  },
  {
   "cell_type": "markdown",
   "metadata": {},
   "source": [
    "Um pouco maior que antes. O que nos deixa com precisamente a arrecadação atual:"
   ]
  },
  {
   "cell_type": "code",
   "execution_count": 28,
   "metadata": {},
   "outputs": [
    {
     "name": "stdout",
     "output_type": "stream",
     "text": [
      "Tabela atual arrecadado:  30,381,769,557.37\n"
     ]
    }
   ],
   "source": [
    "D_2 = 0.94\n",
    "pnad_atual_completa['pagantes'] = pnad_atual_completa['pagantes']*(1-D_2)\n",
    "\n",
    "print(\"Tabela atual arrecadado:  {:0,.2f}\".format(total_revenue(pnad_atual_completa)))"
   ]
  },
  {
   "cell_type": "markdown",
   "metadata": {},
   "source": [
    "E na nova tabela temos o seguinte impacto:"
   ]
  },
  {
   "cell_type": "code",
   "execution_count": 29,
   "metadata": {},
   "outputs": [
    {
     "data": {
      "text/plain": [
       "89146916.0"
      ]
     },
     "execution_count": 29,
     "metadata": {},
     "output_type": "execute_result"
    }
   ],
   "source": [
    "pl2015_bracket_revenue_pnad['pagantes'] = pl2015_bracket_revenue_pnad['pagantes']/(1-D)\n",
    "sum(pl2015_bracket_revenue_pnad['pagantes'])"
   ]
  },
  {
   "cell_type": "code",
   "execution_count": 30,
   "metadata": {},
   "outputs": [
    {
     "data": {
      "text/html": [
       "<div>\n",
       "<style scoped>\n",
       "    .dataframe tbody tr th:only-of-type {\n",
       "        vertical-align: middle;\n",
       "    }\n",
       "\n",
       "    .dataframe tbody tr th {\n",
       "        vertical-align: top;\n",
       "    }\n",
       "\n",
       "    .dataframe thead th {\n",
       "        text-align: right;\n",
       "    }\n",
       "</style>\n",
       "<table border=\"1\" class=\"dataframe\">\n",
       "  <thead>\n",
       "    <tr style=\"text-align: right;\">\n",
       "      <th></th>\n",
       "      <th>renda_mensal_media</th>\n",
       "      <th>pagantes</th>\n",
       "      <th>aliquota</th>\n",
       "    </tr>\n",
       "  </thead>\n",
       "  <tbody>\n",
       "    <tr>\n",
       "      <th>0</th>\n",
       "      <td>0.000</td>\n",
       "      <td>5857573.0</td>\n",
       "      <td>0.00</td>\n",
       "    </tr>\n",
       "    <tr>\n",
       "      <th>1</th>\n",
       "      <td>394.005</td>\n",
       "      <td>24242700.0</td>\n",
       "      <td>0.00</td>\n",
       "    </tr>\n",
       "    <tr>\n",
       "      <th>2</th>\n",
       "      <td>1182.005</td>\n",
       "      <td>34998488.0</td>\n",
       "      <td>0.00</td>\n",
       "    </tr>\n",
       "    <tr>\n",
       "      <th>3</th>\n",
       "      <td>1970.005</td>\n",
       "      <td>11942932.0</td>\n",
       "      <td>0.00</td>\n",
       "    </tr>\n",
       "    <tr>\n",
       "      <th>4</th>\n",
       "      <td>3152.005</td>\n",
       "      <td>4163070.0</td>\n",
       "      <td>0.05</td>\n",
       "    </tr>\n",
       "    <tr>\n",
       "      <th>5</th>\n",
       "      <td>5910.005</td>\n",
       "      <td>5493526.0</td>\n",
       "      <td>0.10</td>\n",
       "    </tr>\n",
       "    <tr>\n",
       "      <th>6</th>\n",
       "      <td>11820.005</td>\n",
       "      <td>1915879.0</td>\n",
       "      <td>0.20</td>\n",
       "    </tr>\n",
       "    <tr>\n",
       "      <th>0</th>\n",
       "      <td>31346.000</td>\n",
       "      <td>1.0</td>\n",
       "      <td>0.35</td>\n",
       "    </tr>\n",
       "    <tr>\n",
       "      <th>1</th>\n",
       "      <td>162617.000</td>\n",
       "      <td>1.0</td>\n",
       "      <td>0.40</td>\n",
       "    </tr>\n",
       "    <tr>\n",
       "      <th>2</th>\n",
       "      <td>25994.000</td>\n",
       "      <td>1.0</td>\n",
       "      <td>0.35</td>\n",
       "    </tr>\n",
       "  </tbody>\n",
       "</table>\n",
       "</div>"
      ],
      "text/plain": [
       "   renda_mensal_media    pagantes  aliquota\n",
       "0               0.000   5857573.0      0.00\n",
       "1             394.005  24242700.0      0.00\n",
       "2            1182.005  34998488.0      0.00\n",
       "3            1970.005  11942932.0      0.00\n",
       "4            3152.005   4163070.0      0.05\n",
       "5            5910.005   5493526.0      0.10\n",
       "6           11820.005   1915879.0      0.20\n",
       "0           31346.000         1.0      0.35\n",
       "1          162617.000         1.0      0.40\n",
       "2           25994.000         1.0      0.35"
      ]
     },
     "execution_count": 30,
     "metadata": {},
     "output_type": "execute_result"
    }
   ],
   "source": [
    "pnad_nova_completa = pd.concat([pl2015_bracket_revenue_pnad[['renda_mensal_media','pagantes']][0:7], \n",
    "                                rich_people_df[['renda_mensal_media','pagantes']]])\n",
    "\n",
    "pl2015_taxbrackets['renda_mensal_max'][8] = lim_sup_r+1\n",
    "\n",
    "aliquotas = []\n",
    "for renda_media in pnad_nova_completa['renda_mensal_media']:\n",
    "    aliquota_set = 0\n",
    "    \n",
    "    for i, row in pl2015_taxbrackets.iterrows():        \n",
    "        if renda_media >= row['renda_mensal_min'] and (renda_media <= row['renda_mensal_max'] or np.isnan(row['renda_mensal_max'])):\n",
    "            aliquotas.append(row['aliquota'])\n",
    "            aliquota_set=1\n",
    "    if aliquota_set == 0:\n",
    "        print(renda_media)\n",
    "    \n",
    "pnad_nova_completa['aliquota'] = aliquotas\n",
    "\n",
    "pnad_nova_completa['aliquota'][4] = pl2015_taxbrackets['aliquota'][1]\n",
    "pnad_nova_completa.head(10)"
   ]
  },
  {
   "cell_type": "code",
   "execution_count": 31,
   "metadata": {},
   "outputs": [],
   "source": [
    "pnad_nova_completa['pagantes'] = pnad_nova_completa['pagantes']*(1-D_2)"
   ]
  },
  {
   "cell_type": "code",
   "execution_count": 32,
   "metadata": {},
   "outputs": [
    {
     "name": "stdout",
     "output_type": "stream",
     "text": [
      "Tabela nova arrecadado:  27,369,846,070.53\n"
     ]
    }
   ],
   "source": [
    "print(\"Tabela nova arrecadado:  {:0,.2f}\".format(total_revenue(pnad_nova_completa)))"
   ]
  },
  {
   "cell_type": "markdown",
   "metadata": {},
   "source": [
    "Parece que realmente a nova tabela implica em uma certa redução de arrecadação, mas essa redução não parece ser muito significativa. Temos dois grandes pontos de incerteza no estudo: o limite superior de renda *lim_sup_r* e a própria distruição de rendas altas que obtivemos aleatoriamente.\n",
    "\n",
    "Podemos retirar a incerteza da distriuição de rendas altas realizando a amostragem várias vezes e calculando uma barra de erro da arrecadação final. A variável *lim_sup_r* entretanto é um problema por si só. Ela poderia ser estimada via o índice de Gini do Brasil, que mede o quão desigual as populações são, ou também poderíamos repetir os cálculos para um intervalo razoável de *lim_sup_r* e plotar um intervalo de confiança para a arrecadação."
   ]
  },
  {
   "cell_type": "markdown",
   "metadata": {},
   "source": [
    "# Conclusão <a class=\"anchor\" id=\"conclusao\"></a>"
   ]
  },
  {
   "cell_type": "markdown",
   "metadata": {},
   "source": [
    "Realizamos dois cálculos de arrecadação da nova tabela do imposto de renda proposta no PL 2015 (três se você contar o cálculo simplificado na Seção 1, mas acho que os resultados só ficam interessantes quando consideramos a distribuição de pessoas ocupadas da PNAD). Na Seção 3, o cálculo assume que as pessoas mais ricas da PNAD obedecem uma distribuição uniforme de renda, enquanto que na Seção 4 estiamos uma distribuição exponencial para as rendas.\n",
    "\n",
    "Em ambos os cálculos a nova tabela arrecada menos que a tabela atual, contudo nossas premissas precisam ser mais estressadas antes de chegarmos a uma conclusão tão forte. A redução calculada na Seção 4 parece ser menor do que 10%, o que sugere que, quando colocarmos uma barra de erros na análise esse número não tenha uma boa significância estatística.\n",
    "\n",
    "É claro que esse tipo de análise deveria ser feita pela Receita Federal, que *realmente* conhece a renda mensal das pessoas. Uns dois SQL resolveriam o problema (ou um com sub-query, mas tem gente que não curte então respeito). Depois que comecei a fazer esse estudo percebi que o presidente da Comissão de Assuntos Econômicos finalmente solicitou à Receita que calculasse o impacto da nova tabela. Enquanto eles terminam o estudo, esse Jupyter é o melhor que o Brasil tem :)"
   ]
  }
 ],
 "metadata": {
  "anaconda-cloud": {},
  "kernelspec": {
   "display_name": "Python [conda root]",
   "language": "python",
   "name": "conda-root-py"
  },
  "language_info": {
   "codemirror_mode": {
    "name": "ipython",
    "version": 3
   },
   "file_extension": ".py",
   "mimetype": "text/x-python",
   "name": "python",
   "nbconvert_exporter": "python",
   "pygments_lexer": "ipython3",
   "version": "3.6.0"
  }
 },
 "nbformat": 4,
 "nbformat_minor": 1
}
